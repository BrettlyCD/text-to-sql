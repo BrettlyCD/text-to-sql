{
 "cells": [
  {
   "attachments": {},
   "cell_type": "markdown",
   "metadata": {},
   "source": [
    "# Data Wranging -> Preparing Training Data\n",
    "\n",
    "Our training data comes nicely to us from the spider database files 'train_spider.json' and 'train_others.json'.\n",
    "\n",
    "The first was built by the team that prepared this data and the second is a collection based on common public datasets.\n",
    "\n",
    "Included in the files are training questions with the corresponding schema_id, correct query to answer the question, and some parsed out data for the question and query.\n",
    "\n",
    "I could actually pull the tokenized words from the question, but I want that practice so I'll do that. I also haven't thought of a good use-case to pull in the query information (I wouldn't know how to train on it), so I'm only going to pull the questions and the corresponding schema_id."
   ]
  },
  {
   "cell_type": "code",
   "execution_count": null,
   "metadata": {
    "vscode": {
     "languageId": "plaintext"
    }
   },
   "outputs": [],
   "source": []
  }
 ],
 "metadata": {
  "language_info": {
   "name": "python"
  },
  "orig_nbformat": 4
 },
 "nbformat": 4,
 "nbformat_minor": 2
}

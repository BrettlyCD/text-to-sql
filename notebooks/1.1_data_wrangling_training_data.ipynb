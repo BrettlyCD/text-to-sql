{
 "cells": [
  {
   "attachments": {},
   "cell_type": "markdown",
   "metadata": {},
   "source": [
    "# Data Wranging -> Preparing Training Data\n",
    "\n",
    "Our training data comes nicely to us from the spider database files 'train_spider.json' and 'train_others.json'.\n",
    "\n",
    "The first was built by the team that prepared this data and the second is a collection based on common public datasets.\n",
    "\n",
    "Included in the files are training questions with the corresponding schema_id, correct query to answer the question, and some parsed out data for the question and query.\n",
    "\n",
    "I could actually pull the tokenized words from the question, but I want that practice so I'll do that. I also haven't thought of a good use-case to pull in the query information (I wouldn't know how to train on it) but I'll pull it anyway and then have a version of the data with full question, target schema, and target query. And then train off of only the 1st two."
   ]
  },
  {
   "cell_type": "code",
   "execution_count": 1,
   "metadata": {},
   "outputs": [],
   "source": [
    "import json\n",
    "import pandas as pd"
   ]
  },
  {
   "attachments": {},
   "cell_type": "markdown",
   "metadata": {},
   "source": [
    "## Spider Training Data\n",
    "\n",
    "### Load json"
   ]
  },
  {
   "cell_type": "code",
   "execution_count": 2,
   "metadata": {},
   "outputs": [],
   "source": [
    "path = '../data/raw/spider/'\n",
    "\n",
    "with open(path+'train_spider.json', \"r\") as f:\n",
    "    spi_train = json.load(f)"
   ]
  },
  {
   "attachments": {},
   "cell_type": "markdown",
   "metadata": {},
   "source": [
    "### Create Pandas DF\n",
    "With question and corresponding schema"
   ]
  },
  {
   "cell_type": "code",
   "execution_count": 3,
   "metadata": {},
   "outputs": [],
   "source": [
    "spi_train_list = []\n",
    "\n",
    "for i in range(len(spi_train)):\n",
    "    ques = spi_train[i]['question']\n",
    "    schem = spi_train[i]['db_id']\n",
    "    query = spi_train[i]['query']\n",
    "    record = [ques, schem, query]\n",
    "    spi_train_list.append(record)"
   ]
  },
  {
   "cell_type": "code",
   "execution_count": 4,
   "metadata": {},
   "outputs": [],
   "source": [
    "spi_train_df = pd.DataFrame(spi_train_list, columns=['question', 'schema', 'query'])"
   ]
  },
  {
   "cell_type": "code",
   "execution_count": 5,
   "metadata": {},
   "outputs": [
    {
     "data": {
      "text/html": [
       "<div>\n",
       "<style scoped>\n",
       "    .dataframe tbody tr th:only-of-type {\n",
       "        vertical-align: middle;\n",
       "    }\n",
       "\n",
       "    .dataframe tbody tr th {\n",
       "        vertical-align: top;\n",
       "    }\n",
       "\n",
       "    .dataframe thead th {\n",
       "        text-align: right;\n",
       "    }\n",
       "</style>\n",
       "<table border=\"1\" class=\"dataframe\">\n",
       "  <thead>\n",
       "    <tr style=\"text-align: right;\">\n",
       "      <th></th>\n",
       "      <th>question</th>\n",
       "      <th>schema</th>\n",
       "      <th>query</th>\n",
       "    </tr>\n",
       "  </thead>\n",
       "  <tbody>\n",
       "    <tr>\n",
       "      <th>0</th>\n",
       "      <td>How many heads of the departments are older th...</td>\n",
       "      <td>department_management</td>\n",
       "      <td>SELECT count(*) FROM head WHERE age  &gt;  56</td>\n",
       "    </tr>\n",
       "    <tr>\n",
       "      <th>1</th>\n",
       "      <td>List the name, born state and age of the heads...</td>\n",
       "      <td>department_management</td>\n",
       "      <td>SELECT name ,  born_state ,  age FROM head ORD...</td>\n",
       "    </tr>\n",
       "    <tr>\n",
       "      <th>2</th>\n",
       "      <td>List the creation year, name and budget of eac...</td>\n",
       "      <td>department_management</td>\n",
       "      <td>SELECT creation ,  name ,  budget_in_billions ...</td>\n",
       "    </tr>\n",
       "    <tr>\n",
       "      <th>3</th>\n",
       "      <td>What are the maximum and minimum budget of the...</td>\n",
       "      <td>department_management</td>\n",
       "      <td>SELECT max(budget_in_billions) ,  min(budget_i...</td>\n",
       "    </tr>\n",
       "    <tr>\n",
       "      <th>4</th>\n",
       "      <td>What is the average number of employees of the...</td>\n",
       "      <td>department_management</td>\n",
       "      <td>SELECT avg(num_employees) FROM department WHER...</td>\n",
       "    </tr>\n",
       "  </tbody>\n",
       "</table>\n",
       "</div>"
      ],
      "text/plain": [
       "                                            question                 schema  \\\n",
       "0  How many heads of the departments are older th...  department_management   \n",
       "1  List the name, born state and age of the heads...  department_management   \n",
       "2  List the creation year, name and budget of eac...  department_management   \n",
       "3  What are the maximum and minimum budget of the...  department_management   \n",
       "4  What is the average number of employees of the...  department_management   \n",
       "\n",
       "                                               query  \n",
       "0         SELECT count(*) FROM head WHERE age  >  56  \n",
       "1  SELECT name ,  born_state ,  age FROM head ORD...  \n",
       "2  SELECT creation ,  name ,  budget_in_billions ...  \n",
       "3  SELECT max(budget_in_billions) ,  min(budget_i...  \n",
       "4  SELECT avg(num_employees) FROM department WHER...  "
      ]
     },
     "execution_count": 5,
     "metadata": {},
     "output_type": "execute_result"
    }
   ],
   "source": [
    "spi_train_df.head()"
   ]
  },
  {
   "attachments": {},
   "cell_type": "markdown",
   "metadata": {},
   "source": [
    "## Other Training Data\n",
    "\n",
    "### Load json"
   ]
  },
  {
   "cell_type": "code",
   "execution_count": 6,
   "metadata": {},
   "outputs": [],
   "source": [
    "path2 = '../data/raw/spider/'\n",
    "\n",
    "with open(path2+'train_others.json', \"r\") as f:\n",
    "    oth_train = json.load(f)"
   ]
  },
  {
   "attachments": {},
   "cell_type": "markdown",
   "metadata": {},
   "source": [
    "### Create Pandas DF\n",
    "\n",
    "With question and corresponding schema"
   ]
  },
  {
   "cell_type": "code",
   "execution_count": 7,
   "metadata": {},
   "outputs": [],
   "source": [
    "oth_train_list = []\n",
    "\n",
    "for i in range(len(oth_train)):\n",
    "    ques = oth_train[i]['question']\n",
    "    schem = oth_train[i]['db_id']\n",
    "    query = oth_train[i]['query']\n",
    "    record = [ques, schem, query]\n",
    "    oth_train_list.append(record)"
   ]
  },
  {
   "cell_type": "code",
   "execution_count": 8,
   "metadata": {},
   "outputs": [],
   "source": [
    "oth_train_df = pd.DataFrame(oth_train_list, columns=['question', 'schema','query'])"
   ]
  },
  {
   "cell_type": "code",
   "execution_count": 11,
   "metadata": {},
   "outputs": [
    {
     "data": {
      "text/html": [
       "<div>\n",
       "<style scoped>\n",
       "    .dataframe tbody tr th:only-of-type {\n",
       "        vertical-align: middle;\n",
       "    }\n",
       "\n",
       "    .dataframe tbody tr th {\n",
       "        vertical-align: top;\n",
       "    }\n",
       "\n",
       "    .dataframe thead th {\n",
       "        text-align: right;\n",
       "    }\n",
       "</style>\n",
       "<table border=\"1\" class=\"dataframe\">\n",
       "  <thead>\n",
       "    <tr style=\"text-align: right;\">\n",
       "      <th></th>\n",
       "      <th>question</th>\n",
       "      <th>schema</th>\n",
       "      <th>query</th>\n",
       "    </tr>\n",
       "  </thead>\n",
       "  <tbody>\n",
       "    <tr>\n",
       "      <th>0</th>\n",
       "      <td>what is the biggest city in wyoming</td>\n",
       "      <td>geo</td>\n",
       "      <td>SELECT city_name FROM city WHERE population  =...</td>\n",
       "    </tr>\n",
       "    <tr>\n",
       "      <th>1</th>\n",
       "      <td>what wyoming city has the largest population</td>\n",
       "      <td>geo</td>\n",
       "      <td>SELECT city_name FROM city WHERE population  =...</td>\n",
       "    </tr>\n",
       "    <tr>\n",
       "      <th>2</th>\n",
       "      <td>what is the largest city in wyoming</td>\n",
       "      <td>geo</td>\n",
       "      <td>SELECT city_name FROM city WHERE population  =...</td>\n",
       "    </tr>\n",
       "    <tr>\n",
       "      <th>3</th>\n",
       "      <td>where is the most populated area of wyoming</td>\n",
       "      <td>geo</td>\n",
       "      <td>SELECT city_name FROM city WHERE population  =...</td>\n",
       "    </tr>\n",
       "    <tr>\n",
       "      <th>4</th>\n",
       "      <td>which city in wyoming has the largest population</td>\n",
       "      <td>geo</td>\n",
       "      <td>SELECT city_name FROM city WHERE population  =...</td>\n",
       "    </tr>\n",
       "  </tbody>\n",
       "</table>\n",
       "</div>"
      ],
      "text/plain": [
       "                                           question schema  \\\n",
       "0               what is the biggest city in wyoming    geo   \n",
       "1      what wyoming city has the largest population    geo   \n",
       "2               what is the largest city in wyoming    geo   \n",
       "3       where is the most populated area of wyoming    geo   \n",
       "4  which city in wyoming has the largest population    geo   \n",
       "\n",
       "                                               query  \n",
       "0  SELECT city_name FROM city WHERE population  =...  \n",
       "1  SELECT city_name FROM city WHERE population  =...  \n",
       "2  SELECT city_name FROM city WHERE population  =...  \n",
       "3  SELECT city_name FROM city WHERE population  =...  \n",
       "4  SELECT city_name FROM city WHERE population  =...  "
      ]
     },
     "execution_count": 11,
     "metadata": {},
     "output_type": "execute_result"
    }
   ],
   "source": [
    "oth_train_df.head()"
   ]
  },
  {
   "attachments": {},
   "cell_type": "markdown",
   "metadata": {},
   "source": [
    "## Combine Dataframes"
   ]
  },
  {
   "cell_type": "code",
   "execution_count": 14,
   "metadata": {},
   "outputs": [],
   "source": [
    "full_train = pd.concat([spi_train_df, oth_train_df], axis=0, ignore_index=True)"
   ]
  },
  {
   "cell_type": "code",
   "execution_count": 24,
   "metadata": {},
   "outputs": [
    {
     "name": "stdout",
     "output_type": "stream",
     "text": [
      "7000\n",
      "1659\n",
      "8659\n"
     ]
    }
   ],
   "source": [
    "#did the concat work. Let's check the counts\n",
    "print(spi_train_df['question'].count())\n",
    "print(oth_train_df['question'].count())\n",
    "print(full_train['question'].count())"
   ]
  },
  {
   "attachments": {},
   "cell_type": "markdown",
   "metadata": {},
   "source": [
    "That looks good! I'll now prep for the next step by saving this to the interim directory, and then create a df with just the first 2 columns for training and move it to the processed directory.\n",
    "\n",
    "## Prep For Next Steps\n",
    "\n",
    "### Save full data to the interim folder"
   ]
  },
  {
   "cell_type": "code",
   "execution_count": 25,
   "metadata": {},
   "outputs": [],
   "source": [
    "#commenting out after running so I don't re-run unecessarily\n",
    "\n",
    "#filepath = '../data/interim/full_training_data.csv'\n",
    "#full_train.to_csv(filepath, index=False)"
   ]
  },
  {
   "attachments": {},
   "cell_type": "markdown",
   "metadata": {},
   "source": [
    "### Create Simpler Training File and Save to Processed Folder"
   ]
  },
  {
   "cell_type": "code",
   "execution_count": 26,
   "metadata": {},
   "outputs": [],
   "source": [
    "#create new with just the first two columns\n",
    "training_data = full_train[['question','schema']]"
   ]
  },
  {
   "cell_type": "code",
   "execution_count": 29,
   "metadata": {},
   "outputs": [
    {
     "name": "stdout",
     "output_type": "stream",
     "text": [
      "                                            question                 schema\n",
      "0  How many heads of the departments are older th...  department_management\n",
      "1  List the name, born state and age of the heads...  department_management\n",
      "2  List the creation year, name and budget of eac...  department_management\n",
      "3  What are the maximum and minimum budget of the...  department_management\n",
      "4  What is the average number of employees of the...  department_management\n",
      "----------------------------------------------------------------------------------------------------\n",
      "<class 'pandas.core.frame.DataFrame'>\n",
      "RangeIndex: 8659 entries, 0 to 8658\n",
      "Data columns (total 2 columns):\n",
      " #   Column    Non-Null Count  Dtype \n",
      "---  ------    --------------  ----- \n",
      " 0   question  8659 non-null   object\n",
      " 1   schema    8659 non-null   object\n",
      "dtypes: object(2)\n",
      "memory usage: 135.4+ KB\n",
      "None\n"
     ]
    }
   ],
   "source": [
    "#look to make sure things copied correctly\n",
    "print(training_data.head())\n",
    "print('--'*50)\n",
    "print(training_data.info())"
   ]
  },
  {
   "cell_type": "code",
   "execution_count": 30,
   "metadata": {},
   "outputs": [],
   "source": [
    "#export csv\n",
    "filepath2 = '../data/processed/training_data.csv'\n",
    "training_data.to_csv(filepath2, index=False)"
   ]
  }
 ],
 "metadata": {
  "kernelspec": {
   "display_name": "text2sql",
   "language": "python",
   "name": "python3"
  },
  "language_info": {
   "codemirror_mode": {
    "name": "ipython",
    "version": 3
   },
   "file_extension": ".py",
   "mimetype": "text/x-python",
   "name": "python",
   "nbconvert_exporter": "python",
   "pygments_lexer": "ipython3",
   "version": "3.11.4"
  },
  "orig_nbformat": 4
 },
 "nbformat": 4,
 "nbformat_minor": 2
}

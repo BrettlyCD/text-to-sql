{
 "cells": [
  {
   "cell_type": "code",
   "execution_count": 1,
   "metadata": {},
   "outputs": [],
   "source": [
    "import sqlite3\n",
    "import pandas as pd\n",
    "import os\n"
   ]
  },
  {
   "attachments": {},
   "cell_type": "markdown",
   "metadata": {},
   "source": [
    "## Get Schema Info"
   ]
  },
  {
   "cell_type": "code",
   "execution_count": 2,
   "metadata": {},
   "outputs": [
    {
     "data": {
      "text/plain": [
       "['academic',\n",
       " 'author',\n",
       " [(0, 'aid', 'INT', 0, None, 1),\n",
       "  (1, 'homepage', 'TEXT', 0, None, 0),\n",
       "  (2, 'name', 'TEXT', 0, None, 0),\n",
       "  (3, 'oid', 'INT', 0, None, 0)]]"
      ]
     },
     "execution_count": 2,
     "metadata": {},
     "output_type": "execute_result"
    }
   ],
   "source": [
    "db = sqlite3.connect('../data/processed/db/academic.sqlite')\n",
    "cursor = db.cursor()\n",
    "\n",
    "schema_name = 'academic'\n",
    "table_name = 'author'\n",
    "cursor.execute(\"PRAGMA table_info(\" + table_name + \");\")\n",
    "columns = cursor.fetchall()\n",
    "\n",
    "schema_info = list((schema_name, table_name, columns))\n",
    "\n",
    "cursor.close()\n",
    "db.close()\n",
    "\n",
    "schema_info"
   ]
  },
  {
   "attachments": {},
   "cell_type": "markdown",
   "metadata": {},
   "source": [
    "# os Work"
   ]
  },
  {
   "cell_type": "code",
   "execution_count": 135,
   "metadata": {},
   "outputs": [
    {
     "data": {
      "text/plain": [
       "['coffee_shop', 'news_report', 'program_share']"
      ]
     },
     "execution_count": 135,
     "metadata": {},
     "output_type": "execute_result"
    }
   ],
   "source": [
    "#more flexible -> multiples subdirs and specified filetype\n",
    "\n",
    "file_list = []\n",
    "for root, dirs, files in os.walk('../data/processed/db/'):\n",
    "    for file in files:\n",
    "        if file.endswith(\".sqlite\"):\n",
    "            file_list.append(os.path.join(file))\n",
    "\n",
    "filenames = [file.replace(\".sqlite\", \"\") for file in file_list]\n",
    "\n",
    "filenames[:3]"
   ]
  },
  {
   "attachments": {},
   "cell_type": "markdown",
   "metadata": {},
   "source": [
    "## Create Functions"
   ]
  },
  {
   "cell_type": "code",
   "execution_count": 136,
   "metadata": {},
   "outputs": [],
   "source": [
    "def get_filenames(filepath, filetype):\n",
    "    \"\"\"Create empty list, loop through files within a directory and grab those of a specifed filetype. Append those to the empty list and return without the filetypes.\n",
    "    filepath example: \"../data/processed/db/\"\n",
    "    filetype example: \".sqlite\"\n",
    "    \"\"\"\n",
    "    file_list = []\n",
    "\n",
    "    for root, dirs, files in os.walk(filepath):\n",
    "        for file in files:\n",
    "            if file.endswith(filetype):\n",
    "                file_list.append(os.path.join(file))\n",
    "\n",
    "    filenames = [file.replace(filetype, \"\") for file in file_list]\n",
    "\n",
    "    return filenames"
   ]
  },
  {
   "cell_type": "code",
   "execution_count": 137,
   "metadata": {},
   "outputs": [
    {
     "data": {
      "text/plain": [
       "['coffee_shop', 'news_report', 'program_share']"
      ]
     },
     "execution_count": 137,
     "metadata": {},
     "output_type": "execute_result"
    }
   ],
   "source": [
    "files = get_filenames('../data/processed/db/', '.sqlite')\n",
    "\n",
    "files[:3]"
   ]
  },
  {
   "cell_type": "code",
   "execution_count": null,
   "metadata": {},
   "outputs": [],
   "source": [
    "#get all table names within schema\n",
    "\n",
    "table_list = []\n",
    "\n",
    "db = sqlite3.connect('../data/processed/db/academic.sqlite')\n",
    "cursor = db.cursor()\n",
    "\n",
    "cursor.execute(\"SELECT name FROM sqlite_master WHERE type='table';\")\n",
    "tables = cursor.fetchall()\n",
    "\n",
    "print(tables)\n",
    "for table in tables:\n",
    "    table_list.append(table[0])\n",
    "\n",
    "print(table_list[:3])\n",
    "\n",
    "cursor.close()\n",
    "db.close()"
   ]
  },
  {
   "cell_type": "code",
   "execution_count": 116,
   "metadata": {},
   "outputs": [],
   "source": [
    "def get_table_names(db_path):\n",
    "    \"\"\"Function to use within build_schema_info to pull down table names from given schema, loop through them, and save to a list\"\"\"\n",
    "    \n",
    "    table_list = []\n",
    "\n",
    "    db = sqlite3.connect(db_path)\n",
    "    cursor=db.cursor()\n",
    "    cursor.execute(\"SELECT name FROM sqlite_master WHERE type='table';\")\n",
    "    tables = cursor.fetchall()\n",
    "\n",
    "    for table in tables:\n",
    "        table_list.append(table[0])\n",
    "    \n",
    "    cursor.close()\n",
    "    db.close()\n",
    "    \n",
    "    return table_list\n"
   ]
  },
  {
   "cell_type": "code",
   "execution_count": 176,
   "metadata": {},
   "outputs": [],
   "source": [
    "def get_column_info(db_path, schema_name, table_name):\n",
    "    \"\"\"Function to use within build_schema_info to pull the column info under the specific table_name\"\"\"\n",
    "    \n",
    "    db = sqlite3.connect(db_path)\n",
    "    cursor=db.cursor()\n",
    "    cursor.execute(\"PRAGMA table_info(\" + table_name + \");\")\n",
    "    columns = cursor.fetchall()\n",
    "\n",
    "    column_data = (schema_name, table_name, columns)\n",
    "\n",
    "    cursor.close()\n",
    "    db.close()\n",
    "\n",
    "    return column_data"
   ]
  },
  {
   "cell_type": "code",
   "execution_count": 189,
   "metadata": {},
   "outputs": [],
   "source": [
    "def build_schema_info(filepath, filetype):\n",
    "    \"\"\"Function combines the get_filenames and get_table_info funciton to create list of file names in a subdirectory and running the PRAGMA table info against each, saving their results to a list.\n",
    "    It then builds a pandas dataframe with the full schema info\"\"\"\n",
    "    \n",
    "    schema_list = get_filenames(filepath, filetype)\n",
    "\n",
    "    schema_data = []\n",
    "\n",
    "    for schema in schema_list:\n",
    "        schema_name = schema\n",
    "        db_path = filepath + str(schema) + filetype\n",
    "\n",
    "        table_list = get_table_names(db_path)\n",
    "        for table in table_list:\n",
    "            table_name = table\n",
    "            column_data = get_column_info(db_path, schema_name, table_name)\n",
    "            schema_data.append(column_data)\n",
    "    \n",
    "    schema_df = (pd.DataFrame(schema_data, columns=['schema','table','column_info']).explode('column_info', ignore_index=True))\n",
    "\n",
    "    schema_df[['c_id','c_name','c_type','notnull','dflt_value','is_pk']] = schema_df.column_info.tolist()\n",
    "\n",
    "    schema_df.drop(columns='column_info', inplace=True)\n",
    "    \n",
    "    return schema_df\n",
    "    "
   ]
  },
  {
   "cell_type": "code",
   "execution_count": 148,
   "metadata": {},
   "outputs": [
    {
     "data": {
      "text/plain": [
       "['coffee_shop', 'news_report', 'program_share']"
      ]
     },
     "execution_count": 148,
     "metadata": {},
     "output_type": "execute_result"
    }
   ],
   "source": [
    "test1 = get_filenames('../data/processed/db/', '.sqlite')\n",
    "test1[:3]"
   ]
  },
  {
   "cell_type": "code",
   "execution_count": 147,
   "metadata": {},
   "outputs": [
    {
     "data": {
      "text/plain": [
       "['author', 'conference', 'domain']"
      ]
     },
     "execution_count": 147,
     "metadata": {},
     "output_type": "execute_result"
    }
   ],
   "source": [
    "test2 = get_table_names('../data/processed/db/academic.sqlite')\n",
    "\n",
    "test2[:3]"
   ]
  },
  {
   "cell_type": "code",
   "execution_count": 149,
   "metadata": {},
   "outputs": [
    {
     "data": {
      "text/plain": [
       "[('academic',\n",
       "  'author',\n",
       "  [(0, 'aid', 'INT', 0, None, 1),\n",
       "   (1, 'homepage', 'TEXT', 0, None, 0),\n",
       "   (2, 'name', 'TEXT', 0, None, 0),\n",
       "   (3, 'oid', 'INT', 0, None, 0)])]"
      ]
     },
     "execution_count": 149,
     "metadata": {},
     "output_type": "execute_result"
    }
   ],
   "source": [
    "test3 = get_column_info('../data/processed/db/academic.sqlite', 'academic', 'author')\n",
    "\n",
    "test3"
   ]
  },
  {
   "cell_type": "code",
   "execution_count": 190,
   "metadata": {},
   "outputs": [
    {
     "data": {
      "text/html": [
       "<div>\n",
       "<style scoped>\n",
       "    .dataframe tbody tr th:only-of-type {\n",
       "        vertical-align: middle;\n",
       "    }\n",
       "\n",
       "    .dataframe tbody tr th {\n",
       "        vertical-align: top;\n",
       "    }\n",
       "\n",
       "    .dataframe thead th {\n",
       "        text-align: right;\n",
       "    }\n",
       "</style>\n",
       "<table border=\"1\" class=\"dataframe\">\n",
       "  <thead>\n",
       "    <tr style=\"text-align: right;\">\n",
       "      <th></th>\n",
       "      <th>schema</th>\n",
       "      <th>table</th>\n",
       "      <th>c_id</th>\n",
       "      <th>c_name</th>\n",
       "      <th>c_type</th>\n",
       "      <th>notnull</th>\n",
       "      <th>dflt_value</th>\n",
       "      <th>is_pk</th>\n",
       "    </tr>\n",
       "  </thead>\n",
       "  <tbody>\n",
       "    <tr>\n",
       "      <th>0</th>\n",
       "      <td>coffee_shop</td>\n",
       "      <td>shop</td>\n",
       "      <td>0</td>\n",
       "      <td>Shop_ID</td>\n",
       "      <td>INT</td>\n",
       "      <td>0</td>\n",
       "      <td>None</td>\n",
       "      <td>1</td>\n",
       "    </tr>\n",
       "    <tr>\n",
       "      <th>1</th>\n",
       "      <td>coffee_shop</td>\n",
       "      <td>shop</td>\n",
       "      <td>1</td>\n",
       "      <td>Address</td>\n",
       "      <td>TEXT</td>\n",
       "      <td>0</td>\n",
       "      <td>None</td>\n",
       "      <td>0</td>\n",
       "    </tr>\n",
       "    <tr>\n",
       "      <th>2</th>\n",
       "      <td>coffee_shop</td>\n",
       "      <td>shop</td>\n",
       "      <td>2</td>\n",
       "      <td>Num_of_staff</td>\n",
       "      <td>TEXT</td>\n",
       "      <td>0</td>\n",
       "      <td>None</td>\n",
       "      <td>0</td>\n",
       "    </tr>\n",
       "    <tr>\n",
       "      <th>3</th>\n",
       "      <td>coffee_shop</td>\n",
       "      <td>shop</td>\n",
       "      <td>3</td>\n",
       "      <td>Score</td>\n",
       "      <td>REAL</td>\n",
       "      <td>0</td>\n",
       "      <td>None</td>\n",
       "      <td>0</td>\n",
       "    </tr>\n",
       "    <tr>\n",
       "      <th>4</th>\n",
       "      <td>coffee_shop</td>\n",
       "      <td>shop</td>\n",
       "      <td>4</td>\n",
       "      <td>Open_Year</td>\n",
       "      <td>TEXT</td>\n",
       "      <td>0</td>\n",
       "      <td>None</td>\n",
       "      <td>0</td>\n",
       "    </tr>\n",
       "  </tbody>\n",
       "</table>\n",
       "</div>"
      ],
      "text/plain": [
       "        schema table c_id        c_name c_type notnull dflt_value is_pk\n",
       "0  coffee_shop  shop    0       Shop_ID    INT       0       None     1\n",
       "1  coffee_shop  shop    1       Address   TEXT       0       None     0\n",
       "2  coffee_shop  shop    2  Num_of_staff   TEXT       0       None     0\n",
       "3  coffee_shop  shop    3         Score   REAL       0       None     0\n",
       "4  coffee_shop  shop    4     Open_Year   TEXT       0       None     0"
      ]
     },
     "execution_count": 190,
     "metadata": {},
     "output_type": "execute_result"
    }
   ],
   "source": [
    "test = build_schema_info('../data/processed/db/', '.sqlite')\n",
    "\n",
    "test.head()"
   ]
  },
  {
   "cell_type": "code",
   "execution_count": null,
   "metadata": {},
   "outputs": [],
   "source": []
  },
  {
   "cell_type": "code",
   "execution_count": null,
   "metadata": {},
   "outputs": [],
   "source": []
  },
  {
   "cell_type": "code",
   "execution_count": null,
   "metadata": {},
   "outputs": [],
   "source": []
  },
  {
   "cell_type": "code",
   "execution_count": 191,
   "metadata": {},
   "outputs": [
    {
     "name": "stdout",
     "output_type": "stream",
     "text": [
      "[('coffee_shop', 'shop', [(0, 'Shop_ID', 'INT', 0, None, 1), (1, 'Address', 'TEXT', 0, None, 0), (2, 'Num_of_staff', 'TEXT', 0, None, 0), (3, 'Score', 'REAL', 0, None, 0), (4, 'Open_Year', 'TEXT', 0, None, 0)])]\n"
     ]
    },
    {
     "data": {
      "text/html": [
       "<div>\n",
       "<style scoped>\n",
       "    .dataframe tbody tr th:only-of-type {\n",
       "        vertical-align: middle;\n",
       "    }\n",
       "\n",
       "    .dataframe tbody tr th {\n",
       "        vertical-align: top;\n",
       "    }\n",
       "\n",
       "    .dataframe thead th {\n",
       "        text-align: right;\n",
       "    }\n",
       "</style>\n",
       "<table border=\"1\" class=\"dataframe\">\n",
       "  <thead>\n",
       "    <tr style=\"text-align: right;\">\n",
       "      <th></th>\n",
       "      <th>schema</th>\n",
       "      <th>table</th>\n",
       "      <th>c_id</th>\n",
       "      <th>c_name</th>\n",
       "      <th>c_type</th>\n",
       "      <th>notnull</th>\n",
       "      <th>dflt_value</th>\n",
       "      <th>is_pk</th>\n",
       "    </tr>\n",
       "  </thead>\n",
       "  <tbody>\n",
       "    <tr>\n",
       "      <th>0</th>\n",
       "      <td>coffee_shop</td>\n",
       "      <td>shop</td>\n",
       "      <td>0</td>\n",
       "      <td>Shop_ID</td>\n",
       "      <td>INT</td>\n",
       "      <td>0</td>\n",
       "      <td>None</td>\n",
       "      <td>1</td>\n",
       "    </tr>\n",
       "    <tr>\n",
       "      <th>1</th>\n",
       "      <td>coffee_shop</td>\n",
       "      <td>shop</td>\n",
       "      <td>1</td>\n",
       "      <td>Address</td>\n",
       "      <td>TEXT</td>\n",
       "      <td>0</td>\n",
       "      <td>None</td>\n",
       "      <td>0</td>\n",
       "    </tr>\n",
       "    <tr>\n",
       "      <th>2</th>\n",
       "      <td>coffee_shop</td>\n",
       "      <td>shop</td>\n",
       "      <td>2</td>\n",
       "      <td>Num_of_staff</td>\n",
       "      <td>TEXT</td>\n",
       "      <td>0</td>\n",
       "      <td>None</td>\n",
       "      <td>0</td>\n",
       "    </tr>\n",
       "    <tr>\n",
       "      <th>3</th>\n",
       "      <td>coffee_shop</td>\n",
       "      <td>shop</td>\n",
       "      <td>3</td>\n",
       "      <td>Score</td>\n",
       "      <td>REAL</td>\n",
       "      <td>0</td>\n",
       "      <td>None</td>\n",
       "      <td>0</td>\n",
       "    </tr>\n",
       "    <tr>\n",
       "      <th>4</th>\n",
       "      <td>coffee_shop</td>\n",
       "      <td>shop</td>\n",
       "      <td>4</td>\n",
       "      <td>Open_Year</td>\n",
       "      <td>TEXT</td>\n",
       "      <td>0</td>\n",
       "      <td>None</td>\n",
       "      <td>0</td>\n",
       "    </tr>\n",
       "  </tbody>\n",
       "</table>\n",
       "</div>"
      ],
      "text/plain": [
       "        schema table c_id        c_name c_type notnull dflt_value is_pk\n",
       "0  coffee_shop  shop    0       Shop_ID    INT       0       None     1\n",
       "1  coffee_shop  shop    1       Address   TEXT       0       None     0\n",
       "2  coffee_shop  shop    2  Num_of_staff   TEXT       0       None     0\n",
       "3  coffee_shop  shop    3         Score   REAL       0       None     0\n",
       "4  coffee_shop  shop    4     Open_Year   TEXT       0       None     0"
      ]
     },
     "execution_count": 191,
     "metadata": {},
     "output_type": "execute_result"
    }
   ],
   "source": [
    "column_list = []\n",
    "\n",
    "db = sqlite3.connect('../data/processed/db/coffee_shop.sqlite')\n",
    "cursor = db.cursor()\n",
    "\n",
    "schema_name = 'coffee_shop'\n",
    "table_name = 'shop'\n",
    "cursor.execute(\"PRAGMA table_info(\" + table_name + \");\")\n",
    "columns = cursor.fetchall()\n",
    "\n",
    "table_data = list(zip([schema_name], [table_name], [columns]))\n",
    "\n",
    "cursor.close()\n",
    "db.close()\n",
    "\n",
    "schema_df = (pd.DataFrame(table_data, columns=['schema','table','column_info']).explode('column_info', ignore_index=True))\n",
    "\n",
    "schema_df[['c_id','c_name','c_type','notnull','dflt_value','is_pk']] = schema_df.column_info.tolist()\n",
    "\n",
    "schema_df.drop(columns='column_info', inplace=True)\n",
    "\n",
    "print(table_data)\n",
    "schema_df"
   ]
  },
  {
   "cell_type": "code",
   "execution_count": 76,
   "metadata": {},
   "outputs": [
    {
     "name": "stdout",
     "output_type": "stream",
     "text": [
      "[('author',), ('conference',), ('domain',), ('domain_author',), ('domain_conference',), ('journal',), ('domain_journal',), ('keyword',), ('domain_keyword',), ('publication',), ('domain_publication',), ('organization',), ('publication_keyword',), ('writes',), ('cite',)]\n",
      "['author', 'conference', 'domain']\n"
     ]
    }
   ],
   "source": []
  }
 ],
 "metadata": {
  "kernelspec": {
   "display_name": "text2sql",
   "language": "python",
   "name": "python3"
  },
  "language_info": {
   "codemirror_mode": {
    "name": "ipython",
    "version": 3
   },
   "file_extension": ".py",
   "mimetype": "text/x-python",
   "name": "python",
   "nbconvert_exporter": "python",
   "pygments_lexer": "ipython3",
   "version": "3.11.4"
  },
  "orig_nbformat": 4
 },
 "nbformat": 4,
 "nbformat_minor": 2
}

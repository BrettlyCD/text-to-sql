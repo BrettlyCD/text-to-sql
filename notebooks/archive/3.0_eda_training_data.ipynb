{
 "cells": [
  {
   "attachments": {},
   "cell_type": "markdown",
   "metadata": {},
   "source": [
    "# Exploratory Data Analysis\n",
    "\n",
    "This feels a little out of order because I've already done some processing. But that was crucial to be able to look at the data further. With that done, I have a few EDA angles to take here.\n",
    "\n",
    "1. Look for representation of each schema in my data, and how balanced that representation is.\n",
    "2. Look at word frequency in my questions, see if anything looks out of whack.\n",
    "3. Look at similarity between schema titles. I may not fix anything here, but want to know what challenges I may face in modelling, predicting."
   ]
  },
  {
   "attachments": {},
   "cell_type": "markdown",
   "metadata": {},
   "source": [
    "## Imports & Data Loading"
   ]
  },
  {
   "cell_type": "code",
   "execution_count": 1,
   "metadata": {},
   "outputs": [],
   "source": [
    "import pandas as pd\n",
    "import matplotlib.pyplot as plt\n",
    "import seaborn as sns\n",
    "\n",
    "import string\n",
    "import json\n",
    "import pickle #for loading processed data\n",
    "\n",
    "from nltk.probability import FreqDist\n",
    "\n",
    "from sklearn.metrics.pairwise import cosine_similarity\n",
    "from sklearn.feature_extraction.text import CountVectorizer\n",
    "\n",
    "%matplotlib inline"
   ]
  },
  {
   "cell_type": "code",
   "execution_count": 2,
   "metadata": {},
   "outputs": [
    {
     "data": {
      "text/html": [
       "<div>\n",
       "<style scoped>\n",
       "    .dataframe tbody tr th:only-of-type {\n",
       "        vertical-align: middle;\n",
       "    }\n",
       "\n",
       "    .dataframe tbody tr th {\n",
       "        vertical-align: top;\n",
       "    }\n",
       "\n",
       "    .dataframe thead th {\n",
       "        text-align: right;\n",
       "    }\n",
       "</style>\n",
       "<table border=\"1\" class=\"dataframe\">\n",
       "  <thead>\n",
       "    <tr style=\"text-align: right;\">\n",
       "      <th></th>\n",
       "      <th>schema</th>\n",
       "      <th>question_proc</th>\n",
       "    </tr>\n",
       "  </thead>\n",
       "  <tbody>\n",
       "    <tr>\n",
       "      <th>0</th>\n",
       "      <td>department_management</td>\n",
       "      <td>[many, head, department, older, 56]</td>\n",
       "    </tr>\n",
       "    <tr>\n",
       "      <th>1</th>\n",
       "      <td>department_management</td>\n",
       "      <td>[list, name, bear, state, age, head, departmen...</td>\n",
       "    </tr>\n",
       "    <tr>\n",
       "      <th>2</th>\n",
       "      <td>department_management</td>\n",
       "      <td>[list, creation, year, name, budget, department]</td>\n",
       "    </tr>\n",
       "    <tr>\n",
       "      <th>3</th>\n",
       "      <td>department_management</td>\n",
       "      <td>[maximum, minimum, budget, department]</td>\n",
       "    </tr>\n",
       "    <tr>\n",
       "      <th>4</th>\n",
       "      <td>department_management</td>\n",
       "      <td>[average, number, employee, department, whose,...</td>\n",
       "    </tr>\n",
       "  </tbody>\n",
       "</table>\n",
       "</div>"
      ],
      "text/plain": [
       "                  schema                                      question_proc\n",
       "0  department_management                [many, head, department, older, 56]\n",
       "1  department_management  [list, name, bear, state, age, head, departmen...\n",
       "2  department_management   [list, creation, year, name, budget, department]\n",
       "3  department_management             [maximum, minimum, budget, department]\n",
       "4  department_management  [average, number, employee, department, whose,..."
      ]
     },
     "execution_count": 2,
     "metadata": {},
     "output_type": "execute_result"
    }
   ],
   "source": [
    "with open('../data/interim/processed_training_data.pkl', 'rb') as pkl_file:\n",
    "    training = pickle.load(pkl_file)\n",
    "\n",
    "training.head()"
   ]
  },
  {
   "attachments": {},
   "cell_type": "markdown",
   "metadata": {
    "vscode": {
     "languageId": "plaintext"
    }
   },
   "source": [
    "## Training Data EDA\n",
    "\n",
    "### 1. Schema Representation"
   ]
  },
  {
   "attachments": {},
   "cell_type": "markdown",
   "metadata": {},
   "source": [
    "#### Bring in schema information to compare to training data"
   ]
  },
  {
   "cell_type": "code",
   "execution_count": 3,
   "metadata": {},
   "outputs": [
    {
     "data": {
      "text/html": [
       "<div>\n",
       "<style scoped>\n",
       "    .dataframe tbody tr th:only-of-type {\n",
       "        vertical-align: middle;\n",
       "    }\n",
       "\n",
       "    .dataframe tbody tr th {\n",
       "        vertical-align: top;\n",
       "    }\n",
       "\n",
       "    .dataframe thead th {\n",
       "        text-align: right;\n",
       "    }\n",
       "</style>\n",
       "<table border=\"1\" class=\"dataframe\">\n",
       "  <thead>\n",
       "    <tr style=\"text-align: right;\">\n",
       "      <th></th>\n",
       "      <th>schema</th>\n",
       "      <th>table</th>\n",
       "      <th>column_name</th>\n",
       "      <th>column_type</th>\n",
       "      <th>is_primary_key</th>\n",
       "      <th>is_foreign_key</th>\n",
       "      <th>fk_reference_table</th>\n",
       "      <th>fk_reference_column</th>\n",
       "    </tr>\n",
       "  </thead>\n",
       "  <tbody>\n",
       "    <tr>\n",
       "      <th>0</th>\n",
       "      <td>perpetrator</td>\n",
       "      <td>perpetrator</td>\n",
       "      <td>perpetrator_id</td>\n",
       "      <td>numeric</td>\n",
       "      <td>True</td>\n",
       "      <td>False</td>\n",
       "      <td>NaN</td>\n",
       "      <td>NaN</td>\n",
       "    </tr>\n",
       "    <tr>\n",
       "      <th>1</th>\n",
       "      <td>perpetrator</td>\n",
       "      <td>perpetrator</td>\n",
       "      <td>people_id</td>\n",
       "      <td>numeric</td>\n",
       "      <td>False</td>\n",
       "      <td>True</td>\n",
       "      <td>people</td>\n",
       "      <td>People_ID</td>\n",
       "    </tr>\n",
       "    <tr>\n",
       "      <th>2</th>\n",
       "      <td>perpetrator</td>\n",
       "      <td>perpetrator</td>\n",
       "      <td>date_value</td>\n",
       "      <td>date</td>\n",
       "      <td>False</td>\n",
       "      <td>False</td>\n",
       "      <td>NaN</td>\n",
       "      <td>NaN</td>\n",
       "    </tr>\n",
       "    <tr>\n",
       "      <th>3</th>\n",
       "      <td>perpetrator</td>\n",
       "      <td>perpetrator</td>\n",
       "      <td>year</td>\n",
       "      <td>numeric</td>\n",
       "      <td>False</td>\n",
       "      <td>False</td>\n",
       "      <td>NaN</td>\n",
       "      <td>NaN</td>\n",
       "    </tr>\n",
       "    <tr>\n",
       "      <th>4</th>\n",
       "      <td>perpetrator</td>\n",
       "      <td>perpetrator</td>\n",
       "      <td>location</td>\n",
       "      <td>text</td>\n",
       "      <td>False</td>\n",
       "      <td>False</td>\n",
       "      <td>NaN</td>\n",
       "      <td>NaN</td>\n",
       "    </tr>\n",
       "  </tbody>\n",
       "</table>\n",
       "</div>"
      ],
      "text/plain": [
       "        schema        table     column_name column_type  is_primary_key  \\\n",
       "0  perpetrator  perpetrator  perpetrator_id     numeric            True   \n",
       "1  perpetrator  perpetrator       people_id     numeric           False   \n",
       "2  perpetrator  perpetrator      date_value        date           False   \n",
       "3  perpetrator  perpetrator            year     numeric           False   \n",
       "4  perpetrator  perpetrator        location        text           False   \n",
       "\n",
       "   is_foreign_key fk_reference_table fk_reference_column  \n",
       "0           False                NaN                 NaN  \n",
       "1            True             people           People_ID  \n",
       "2           False                NaN                 NaN  \n",
       "3           False                NaN                 NaN  \n",
       "4           False                NaN                 NaN  "
      ]
     },
     "execution_count": 3,
     "metadata": {},
     "output_type": "execute_result"
    }
   ],
   "source": [
    "schema = pd.read_csv('../data/interim/schema_info.csv')\n",
    "schema.head()"
   ]
  },
  {
   "attachments": {},
   "cell_type": "markdown",
   "metadata": {},
   "source": [
    "#### Compare schema in full schema info to schema in training data"
   ]
  },
  {
   "cell_type": "code",
   "execution_count": 4,
   "metadata": {},
   "outputs": [],
   "source": [
    "#create unique lists of schemas from each source\n",
    "schema_list = schema['schema'].unique().tolist()\n",
    "training_list = training['schema'].unique().tolist()"
   ]
  },
  {
   "cell_type": "code",
   "execution_count": 5,
   "metadata": {},
   "outputs": [
    {
     "name": "stdout",
     "output_type": "stream",
     "text": [
      "These 20 schemas are not represented:\n",
      "\n",
      "['battle_death', 'car_1', 'concert_singer', 'course_teach', 'cre_Doc_Template_Mgt', 'dog_kennels', 'employee_hire_evaluation', 'flight_2', 'museum_visit', 'network_1', 'orchestra', 'pets_1', 'poker_player', 'real_estate_properties', 'singer', 'student_transcripts_tracking', 'tvshow', 'voter_1', 'world_1', 'wta_1']\n"
     ]
    }
   ],
   "source": [
    "#highlight missing values\n",
    "missing_values = list(set(schema_list) - set(training_list))\n",
    "\n",
    "print(\"These \" +str(len(missing_values)) +\" schemas are not represented:\\n\")\n",
    "print(sorted(missing_values))"
   ]
  },
  {
   "cell_type": "code",
   "execution_count": 6,
   "metadata": {},
   "outputs": [
    {
     "data": {
      "text/plain": [
       "schema\n",
       "flight_1          96\n",
       "flight_4          82\n",
       "flight_company    19\n",
       "Name: count, dtype: int64"
      ]
     },
     "execution_count": 6,
     "metadata": {},
     "output_type": "execute_result"
    }
   ],
   "source": [
    "#it's possible there may just be some lower vs. upper case issues on some of these? Let's confirm some items.\n",
    "\n",
    "training.loc[training.schema.str.contains('flight')]['schema'].value_counts()"
   ]
  },
  {
   "attachments": {},
   "cell_type": "markdown",
   "metadata": {},
   "source": [
    "It really does look like these 20 schemas are missing. I wonder if these are just withheld completely for testing?\n",
    "\n",
    "If we can't figure out if they are missing for a reason or just due to oversight we could benefit from writing some manual questions before we do a full pre-processing for training.\n",
    "\n",
    "\n",
    "#### Decision - Write more questions or accept missing schemas"
   ]
  },
  {
   "cell_type": "code",
   "execution_count": 7,
   "metadata": {},
   "outputs": [],
   "source": [
    "# Pull in test data to see if its represented (is this like seeing the bride before the wedding?)\n",
    "path = '../data/raw/spider/'\n",
    "\n",
    "with open(path+'dev.json', \"r\") as f:\n",
    "    dev = json.load(f)"
   ]
  },
  {
   "cell_type": "code",
   "execution_count": 8,
   "metadata": {},
   "outputs": [],
   "source": [
    "#create list of schemas represented\n",
    "dev_schemas = []\n",
    "\n",
    "for i in range(len(dev)):\n",
    "    schem = dev[i]['db_id']\n",
    "    dev_schemas.append(schem)"
   ]
  },
  {
   "cell_type": "code",
   "execution_count": 9,
   "metadata": {},
   "outputs": [
    {
     "name": "stdout",
     "output_type": "stream",
     "text": [
      "These 20 schemas are in the test data:\n",
      "\n",
      "['battle_death', 'car_1', 'concert_singer', 'course_teach', 'cre_Doc_Template_Mgt', 'dog_kennels', 'employee_hire_evaluation', 'flight_2', 'museum_visit', 'network_1', 'orchestra', 'pets_1', 'poker_player', 'real_estate_properties', 'singer', 'student_transcripts_tracking', 'tvshow', 'voter_1', 'world_1', 'wta_1']\n"
     ]
    }
   ],
   "source": [
    "#return which values match between our missing in training and our test data\n",
    "matching = list(set(missing_values) & set(dev_schemas))\n",
    "\n",
    "print(\"These \" +str(len(matching)) +\" schemas are in the test data:\\n\")\n",
    "print(sorted(matching))"
   ]
  },
  {
   "attachments": {},
   "cell_type": "markdown",
   "metadata": {},
   "source": [
    "They appear to be withheld on purpose. I'll keep moving on!\n",
    "\n",
    "#### View Distribution of Schemas\n",
    "\n",
    "Since there are so many, let's group everything that has less than 50 instances."
   ]
  },
  {
   "cell_type": "code",
   "execution_count": 10,
   "metadata": {},
   "outputs": [
    {
     "data": {
      "text/html": [
       "<div>\n",
       "<style scoped>\n",
       "    .dataframe tbody tr th:only-of-type {\n",
       "        vertical-align: middle;\n",
       "    }\n",
       "\n",
       "    .dataframe tbody tr th {\n",
       "        vertical-align: top;\n",
       "    }\n",
       "\n",
       "    .dataframe thead th {\n",
       "        text-align: right;\n",
       "    }\n",
       "</style>\n",
       "<table border=\"1\" class=\"dataframe\">\n",
       "  <thead>\n",
       "    <tr style=\"text-align: right;\">\n",
       "      <th></th>\n",
       "      <th>schema</th>\n",
       "      <th>counts</th>\n",
       "    </tr>\n",
       "  </thead>\n",
       "  <tbody>\n",
       "    <tr>\n",
       "      <th>0</th>\n",
       "      <td>scholar</td>\n",
       "      <td>569</td>\n",
       "    </tr>\n",
       "    <tr>\n",
       "      <th>1</th>\n",
       "      <td>geo</td>\n",
       "      <td>564</td>\n",
       "    </tr>\n",
       "    <tr>\n",
       "      <th>2</th>\n",
       "      <td>academic</td>\n",
       "      <td>181</td>\n",
       "    </tr>\n",
       "    <tr>\n",
       "      <th>3</th>\n",
       "      <td>college_2</td>\n",
       "      <td>170</td>\n",
       "    </tr>\n",
       "    <tr>\n",
       "      <th>4</th>\n",
       "      <td>college_1</td>\n",
       "      <td>164</td>\n",
       "    </tr>\n",
       "  </tbody>\n",
       "</table>\n",
       "</div>"
      ],
      "text/plain": [
       "      schema  counts\n",
       "0    scholar     569\n",
       "1        geo     564\n",
       "2   academic     181\n",
       "3  college_2     170\n",
       "4  college_1     164"
      ]
     },
     "execution_count": 10,
     "metadata": {},
     "output_type": "execute_result"
    }
   ],
   "source": [
    "#set counts into dataframe\n",
    "counts = training.schema.value_counts().rename_axis('schema').reset_index(name='counts')\n",
    "counts.head()"
   ]
  },
  {
   "cell_type": "code",
   "execution_count": 11,
   "metadata": {},
   "outputs": [
    {
     "data": {
      "image/png": "[encoded data removed]",
      "text/plain": [
       "<Figure size 640x480 with 1 Axes>"
      ]
     },
     "metadata": {},
     "output_type": "display_data"
    },
    {
     "name": "stdout",
     "output_type": "stream",
     "text": [
      "        schema  counts\n",
      "0      scholar     569\n",
      "1          geo     564\n",
      "2     academic     181\n",
      "3    college_2     170\n",
      "4    college_1     164\n",
      "5  restaurants     125\n",
      "6         hr_1     124\n",
      "7      store_1     112\n",
      "8         yelp     111\n",
      "9         imdb     109\n"
     ]
    }
   ],
   "source": [
    "#visualize histogram of schema representation (count)\n",
    "sns.set(style=\"darkgrid\")\n",
    "\n",
    "sns.histplot(data=counts, x='counts', bins=15)\n",
    "plt.show()\n",
    "\n",
    "print(counts.head(10))"
   ]
  },
  {
   "attachments": {},
   "cell_type": "markdown",
   "metadata": {},
   "source": [
    "We are very heavy on the scholar and geo dataframes. These aren't part of the main spider data, but from other common datasources added to the project.\n",
    "\n",
    "Apart from unbalanced classes, this isn't necessarily an issue. We could do a balancing step. But we could also drop these and focus on only the main spider database. I'll come back to that later."
   ]
  },
  {
   "attachments": {},
   "cell_type": "markdown",
   "metadata": {},
   "source": [
    "### 2. Question Word Frequency\n",
    "\n",
    "Here I'll use nltk's \"FreqDist\" to get our most common words."
   ]
  },
  {
   "cell_type": "code",
   "execution_count": 12,
   "metadata": {},
   "outputs": [],
   "source": [
    "#create list of all words\n",
    "words = training['question_proc']\n",
    "all_words = []\n",
    "for wordlist in words:\n",
    "    all_words += wordlist"
   ]
  },
  {
   "cell_type": "code",
   "execution_count": 13,
   "metadata": {},
   "outputs": [
    {
     "data": {
      "text/plain": [
       "['many',\n",
       " 'head',\n",
       " 'department',\n",
       " 'older',\n",
       " '56',\n",
       " 'list',\n",
       " 'name',\n",
       " 'bear',\n",
       " 'state',\n",
       " 'age',\n",
       " 'head',\n",
       " 'department',\n",
       " 'order',\n",
       " 'age',\n",
       " 'list']"
      ]
     },
     "execution_count": 13,
     "metadata": {},
     "output_type": "execute_result"
    }
   ],
   "source": [
    "all_words[:15]"
   ]
  },
  {
   "cell_type": "code",
   "execution_count": 14,
   "metadata": {},
   "outputs": [],
   "source": [
    "#breakout the top 25 most common words\n",
    "common = FreqDist(all_words).most_common(25)\n",
    "x, y = zip(*common)"
   ]
  },
  {
   "cell_type": "code",
   "execution_count": 15,
   "metadata": {},
   "outputs": [
    {
     "data": {
      "text/plain": [
       "tuple"
      ]
     },
     "execution_count": 15,
     "metadata": {},
     "output_type": "execute_result"
    }
   ],
   "source": [
    "type(x)\n",
    "type(y)"
   ]
  },
  {
   "cell_type": "code",
   "execution_count": 16,
   "metadata": {},
   "outputs": [
    {
     "data": {
      "image/png": "[encoded data removed]",
      "text/plain": [
       "<Figure size 1000x800 with 1 Axes>"
      ]
     },
     "metadata": {},
     "output_type": "display_data"
    }
   ],
   "source": [
    "#plot results\n",
    "\n",
    "plt.figure(figsize=(10,8))\n",
    "plt.margins(0.02)\n",
    "plt.bar(x,y)\n",
    "plt.xlabel('Words')\n",
    "plt.xticks(rotation=45)\n",
    "plt.ylabel('Frequency of Words')\n",
    "plt.title('Frequency of 25 Most Common Words')\n",
    "\n",
    "plt.show()"
   ]
  },
  {
   "attachments": {},
   "cell_type": "markdown",
   "metadata": {},
   "source": [
    "**Observations:**\n",
    "- Name is far and away the most common word in the data. It looks like more than 2x as many as any other word. This is mostly from the questions stating to list the \"name\" of something, among other things\n",
    "- There are still some pesky symbols/characters. I'll need to remove those in my final pre-processing\n",
    "- Just seeing the number of what I would call 'transactional' words - things that drive the question, and aren't necessarilty about the subject matter worries me a bit. I could maybe filter some of those out as domain stopwords \n",
    "    - Words like 'how' or 'many', 'average' or 'total' or 'show'\n",
    "\n",
    "The move could be to set a threshold, and if a words appears in > x% of total quesions then we drop it as too common?"
   ]
  },
  {
   "attachments": {},
   "cell_type": "markdown",
   "metadata": {},
   "source": [
    "#### Create a list of potential words to remove ontop of regular english stop words in final pre-processing."
   ]
  },
  {
   "cell_type": "code",
   "execution_count": 17,
   "metadata": {},
   "outputs": [],
   "source": [
    "#how many total questions in my data?\n",
    "ques_count = len(training)"
   ]
  },
  {
   "cell_type": "code",
   "execution_count": 18,
   "metadata": {},
   "outputs": [
    {
     "data": {
      "text/plain": [
       "['name', 'number', '``', 'find', 'many', 'show', 'id', 'list', \"''\"]"
      ]
     },
     "execution_count": 18,
     "metadata": {},
     "output_type": "execute_result"
    }
   ],
   "source": [
    "#Can't decide between 10 & 5% of records so I'll go middle and set threshold for filtering at 7.5%\n",
    "threshold = 0.075\n",
    "\n",
    "#filter wordlist to those with 10% occurence\n",
    "domain_stops = [word[0] for word in common if word[1] > ques_count*threshold]\n",
    "\n",
    "domain_stops"
   ]
  },
  {
   "cell_type": "code",
   "execution_count": 19,
   "metadata": {},
   "outputs": [
    {
     "data": {
      "text/plain": [
       "['name', 'number', 'find', 'many', 'show', 'id', 'list']"
      ]
     },
     "execution_count": 19,
     "metadata": {},
     "output_type": "execute_result"
    }
   ],
   "source": [
    "#remove the non-words from this as we'll already remove that\n",
    "domain_stops = [word for word in domain_stops if word.isalpha()]\n",
    "\n",
    "domain_stops"
   ]
  },
  {
   "attachments": {},
   "cell_type": "markdown",
   "metadata": {},
   "source": [
    "### 3. Schema Similarity\n",
    "\n",
    "A list of words isn't totally primed for great similarity comparisons, but I'll try a simple cosine similarity model on the schema names using the sklearn module."
   ]
  },
  {
   "cell_type": "code",
   "execution_count": 20,
   "metadata": {},
   "outputs": [
    {
     "data": {
      "text/plain": [
       "['academic', 'activity_1', 'aircraft', 'allergy_1', 'apartment_rentals']"
      ]
     },
     "execution_count": 20,
     "metadata": {},
     "output_type": "execute_result"
    }
   ],
   "source": [
    "#re-establish my list of schemas\n",
    "schema_list_sorted = sorted(schema_list)\n",
    "\n",
    "schema_list_sorted[:5]"
   ]
  },
  {
   "cell_type": "code",
   "execution_count": 21,
   "metadata": {},
   "outputs": [
    {
     "data": {
      "text/plain": [
       "['academic', 'activity 1', 'aircraft', 'allergy 1', 'apartment rentals']"
      ]
     },
     "execution_count": 21,
     "metadata": {},
     "output_type": "execute_result"
    }
   ],
   "source": [
    "#split out underscores into words with space between\n",
    "new_list = []\n",
    "for i in schema_list_sorted:\n",
    "    k = i.replace(\"_\", \" \")\n",
    "    new_list.append(k)\n",
    "\n",
    "new_list[:5]"
   ]
  },
  {
   "cell_type": "code",
   "execution_count": 22,
   "metadata": {},
   "outputs": [
    {
     "data": {
      "text/plain": [
       "array([[1, 0, 0, ..., 0, 0, 0],\n",
       "       [0, 1, 0, ..., 0, 0, 0],\n",
       "       [0, 0, 0, ..., 0, 0, 0],\n",
       "       ...,\n",
       "       [0, 0, 0, ..., 1, 0, 0],\n",
       "       [0, 0, 0, ..., 0, 1, 0],\n",
       "       [0, 0, 0, ..., 0, 0, 1]])"
      ]
     },
     "execution_count": 22,
     "metadata": {},
     "output_type": "execute_result"
    }
   ],
   "source": [
    "#vectorize my list\n",
    "\n",
    "vectorizer = CountVectorizer().fit_transform(new_list)\n",
    "vectors = vectorizer.toarray()\n",
    "vectors"
   ]
  },
  {
   "cell_type": "code",
   "execution_count": 25,
   "metadata": {},
   "outputs": [],
   "source": [
    "#create function for comparing two values more naturally\n",
    "def cosine_sim_vectors(vec1, vec2):\n",
    "    vec1 = vec1.reshape(1,-1)\n",
    "    vec2 = vec2.reshape(1,-1)\n",
    "\n",
    "    return cosine_similarity(vec1, vec2)[0][0]"
   ]
  },
  {
   "cell_type": "code",
   "execution_count": 33,
   "metadata": {},
   "outputs": [],
   "source": [
    "#do a very simple run through the list in order, comparing with the next alphabetical value. This may not be perfect or complete, but will help me filter down the long list easier.\n",
    "csim_schemas = [[new_list[i], new_list[i+1], cosine_sim_vectors(vectors[i], vectors[i+1])] for i in range(len(new_list)-1)]"
   ]
  },
  {
   "cell_type": "code",
   "execution_count": 41,
   "metadata": {},
   "outputs": [
    {
     "data": {
      "text/html": [
       "<div>\n",
       "<style scoped>\n",
       "    .dataframe tbody tr th:only-of-type {\n",
       "        vertical-align: middle;\n",
       "    }\n",
       "\n",
       "    .dataframe tbody tr th {\n",
       "        vertical-align: top;\n",
       "    }\n",
       "\n",
       "    .dataframe thead th {\n",
       "        text-align: right;\n",
       "    }\n",
       "</style>\n",
       "<table border=\"1\" class=\"dataframe\">\n",
       "  <thead>\n",
       "    <tr style=\"text-align: right;\">\n",
       "      <th></th>\n",
       "      <th>schema_1</th>\n",
       "      <th>schema_2</th>\n",
       "      <th>cosine_sim</th>\n",
       "    </tr>\n",
       "  </thead>\n",
       "  <tbody>\n",
       "    <tr>\n",
       "      <th>0</th>\n",
       "      <td>college 1</td>\n",
       "      <td>college 2</td>\n",
       "      <td>1.000000</td>\n",
       "    </tr>\n",
       "    <tr>\n",
       "      <th>8</th>\n",
       "      <td>flight 1</td>\n",
       "      <td>flight 2</td>\n",
       "      <td>1.000000</td>\n",
       "    </tr>\n",
       "    <tr>\n",
       "      <th>19</th>\n",
       "      <td>soccer 1</td>\n",
       "      <td>soccer 2</td>\n",
       "      <td>1.000000</td>\n",
       "    </tr>\n",
       "    <tr>\n",
       "      <th>16</th>\n",
       "      <td>network 1</td>\n",
       "      <td>network 2</td>\n",
       "      <td>1.000000</td>\n",
       "    </tr>\n",
       "    <tr>\n",
       "      <th>15</th>\n",
       "      <td>music 2</td>\n",
       "      <td>music 4</td>\n",
       "      <td>1.000000</td>\n",
       "    </tr>\n",
       "    <tr>\n",
       "      <th>14</th>\n",
       "      <td>music 1</td>\n",
       "      <td>music 2</td>\n",
       "      <td>1.000000</td>\n",
       "    </tr>\n",
       "    <tr>\n",
       "      <th>1</th>\n",
       "      <td>college 2</td>\n",
       "      <td>college 3</td>\n",
       "      <td>1.000000</td>\n",
       "    </tr>\n",
       "    <tr>\n",
       "      <th>9</th>\n",
       "      <td>flight 2</td>\n",
       "      <td>flight 4</td>\n",
       "      <td>1.000000</td>\n",
       "    </tr>\n",
       "    <tr>\n",
       "      <th>22</th>\n",
       "      <td>voter 1</td>\n",
       "      <td>voter 2</td>\n",
       "      <td>1.000000</td>\n",
       "    </tr>\n",
       "    <tr>\n",
       "      <th>7</th>\n",
       "      <td>election</td>\n",
       "      <td>election representative</td>\n",
       "      <td>0.707107</td>\n",
       "    </tr>\n",
       "    <tr>\n",
       "      <th>10</th>\n",
       "      <td>flight 4</td>\n",
       "      <td>flight company</td>\n",
       "      <td>0.707107</td>\n",
       "    </tr>\n",
       "    <tr>\n",
       "      <th>17</th>\n",
       "      <td>phone 1</td>\n",
       "      <td>phone market</td>\n",
       "      <td>0.707107</td>\n",
       "    </tr>\n",
       "    <tr>\n",
       "      <th>18</th>\n",
       "      <td>ship 1</td>\n",
       "      <td>ship mission</td>\n",
       "      <td>0.707107</td>\n",
       "    </tr>\n",
       "    <tr>\n",
       "      <th>2</th>\n",
       "      <td>company 1</td>\n",
       "      <td>company employee</td>\n",
       "      <td>0.707107</td>\n",
       "    </tr>\n",
       "    <tr>\n",
       "      <th>20</th>\n",
       "      <td>store 1</td>\n",
       "      <td>store product</td>\n",
       "      <td>0.707107</td>\n",
       "    </tr>\n",
       "    <tr>\n",
       "      <th>21</th>\n",
       "      <td>student 1</td>\n",
       "      <td>student assessment</td>\n",
       "      <td>0.707107</td>\n",
       "    </tr>\n",
       "    <tr>\n",
       "      <th>11</th>\n",
       "      <td>game 1</td>\n",
       "      <td>game injury</td>\n",
       "      <td>0.707107</td>\n",
       "    </tr>\n",
       "    <tr>\n",
       "      <th>5</th>\n",
       "      <td>customers and addresses</td>\n",
       "      <td>customers and invoices</td>\n",
       "      <td>0.666667</td>\n",
       "    </tr>\n",
       "    <tr>\n",
       "      <th>6</th>\n",
       "      <td>customers and invoices</td>\n",
       "      <td>customers and products contacts</td>\n",
       "      <td>0.577350</td>\n",
       "    </tr>\n",
       "    <tr>\n",
       "      <th>13</th>\n",
       "      <td>local govt in alabama</td>\n",
       "      <td>local govt mdm</td>\n",
       "      <td>0.577350</td>\n",
       "    </tr>\n",
       "    <tr>\n",
       "      <th>12</th>\n",
       "      <td>local govt and lot</td>\n",
       "      <td>local govt in alabama</td>\n",
       "      <td>0.500000</td>\n",
       "    </tr>\n",
       "    <tr>\n",
       "      <th>4</th>\n",
       "      <td>cre Doc Template Mgt</td>\n",
       "      <td>cre Doc Tracking DB</td>\n",
       "      <td>0.500000</td>\n",
       "    </tr>\n",
       "    <tr>\n",
       "      <th>3</th>\n",
       "      <td>cre Doc Control Systems</td>\n",
       "      <td>cre Doc Template Mgt</td>\n",
       "      <td>0.500000</td>\n",
       "    </tr>\n",
       "  </tbody>\n",
       "</table>\n",
       "</div>"
      ],
      "text/plain": [
       "                   schema_1                         schema_2  cosine_sim\n",
       "0                 college 1                        college 2    1.000000\n",
       "8                  flight 1                         flight 2    1.000000\n",
       "19                 soccer 1                         soccer 2    1.000000\n",
       "16                network 1                        network 2    1.000000\n",
       "15                  music 2                          music 4    1.000000\n",
       "14                  music 1                          music 2    1.000000\n",
       "1                 college 2                        college 3    1.000000\n",
       "9                  flight 2                         flight 4    1.000000\n",
       "22                  voter 1                          voter 2    1.000000\n",
       "7                  election          election representative    0.707107\n",
       "10                 flight 4                   flight company    0.707107\n",
       "17                  phone 1                     phone market    0.707107\n",
       "18                   ship 1                     ship mission    0.707107\n",
       "2                 company 1                 company employee    0.707107\n",
       "20                  store 1                    store product    0.707107\n",
       "21                student 1               student assessment    0.707107\n",
       "11                   game 1                      game injury    0.707107\n",
       "5   customers and addresses           customers and invoices    0.666667\n",
       "6    customers and invoices  customers and products contacts    0.577350\n",
       "13    local govt in alabama                   local govt mdm    0.577350\n",
       "12       local govt and lot            local govt in alabama    0.500000\n",
       "4      cre Doc Template Mgt              cre Doc Tracking DB    0.500000\n",
       "3   cre Doc Control Systems             cre Doc Template Mgt    0.500000"
      ]
     },
     "execution_count": 41,
     "metadata": {},
     "output_type": "execute_result"
    }
   ],
   "source": [
    "#view csims >= .5 in dataframe\n",
    "csim_df = pd.DataFrame([schema for schema in csim_schemas if schema[2] >= 0.5], columns=['schema_1','schema_2','cosine_sim'])\n",
    "\n",
    "csim_df.sort_values(by='cosine_sim', ascending=False).head(30)"
   ]
  },
  {
   "attachments": {},
   "cell_type": "markdown",
   "metadata": {},
   "source": [
    "**Observations**\n",
    "\n",
    "- Not too many, I probably couldn've just sorted alphabetically and then manually checked, but that was a fun little mini project.\n",
    "- As expected the schema_n fields should cause issues, but there are others that also might as well.\n",
    "\n",
    "I had initially thought of having a 2-tiered approach to identifying the target schema. Check for a match with all possible schemas - if there is a runaway winner - go with it. If it is close, expand to search against the table info. But this could still even not be enough if the tables are similar or especially if they're the same. I could maybe even tap into some of the data itself in rare circumstances? But that has to be pretty inefficient. I'll keep doing some research as I move on the with project."
   ]
  }
 ],
 "metadata": {
  "kernelspec": {
   "display_name": "text2sql",
   "language": "python",
   "name": "python3"
  },
  "language_info": {
   "codemirror_mode": {
    "name": "ipython",
    "version": 3
   },
   "file_extension": ".py",
   "mimetype": "text/x-python",
   "name": "python",
   "nbconvert_exporter": "python",
   "pygments_lexer": "ipython3",
   "version": "3.11.4"
  },
  "orig_nbformat": 4
 },
 "nbformat": 4,
 "nbformat_minor": 2
}

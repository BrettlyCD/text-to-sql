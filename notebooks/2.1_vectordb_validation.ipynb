{
 "cells": [
  {
   "cell_type": "markdown",
   "metadata": {},
   "source": [
    "# Vector Database Validation\n",
    "\n",
    "I key necessity of this application is to correctly identify where to go get the answers to the question. This can be fairly simple with a precise user input question like \"pull from x schema\" or more unique keywords. But it can also be very tough. In the first version of this, I have a pure vectordb similarity search. I want to test how accurately this get the correct schema in the top 1 and top 3. If it's not satisfactory - I want to then move onto testing other options or ways to supplement it.\n",
    "\n",
    "## Setup Connection to Vector DB\n",
    "\n",
    "### Imports"
   ]
  },
  {
   "cell_type": "code",
   "execution_count": 67,
   "metadata": {},
   "outputs": [],
   "source": [
    "import os\n",
    "import json\n",
    "import pandas as pd\n",
    "import numpy as np\n",
    "\n",
    "from langchain.vectorstores import Chroma\n",
    "from langchain.embeddings import HuggingFaceEmbeddings"
   ]
  },
  {
   "cell_type": "markdown",
   "metadata": {},
   "source": [
    "### Point to DB"
   ]
  },
  {
   "cell_type": "code",
   "execution_count": 60,
   "metadata": {},
   "outputs": [],
   "source": [
    "#setup embeddings using HuggingFace and the directory location\n",
    "embeddings  = HuggingFaceEmbeddings()\n",
    "persist_dir = '../data/processed/chromadb/schema-table-split'\n",
    "\n",
    "# load from disk\n",
    "vectordb = Chroma(persist_directory=persist_dir, embedding_function=embeddings)"
   ]
  },
  {
   "cell_type": "markdown",
   "metadata": {},
   "source": [
    "## Pull in Training Data to Validate Against"
   ]
  },
  {
   "cell_type": "code",
   "execution_count": 61,
   "metadata": {},
   "outputs": [
    {
     "data": {
      "text/plain": [
       "'department_management'"
      ]
     },
     "execution_count": 61,
     "metadata": {},
     "output_type": "execute_result"
    }
   ],
   "source": [
    "#load json\n",
    "path = '../data/raw/spider/'\n",
    "\n",
    "with open(path+'train_spider.json', \"r\") as f:\n",
    "    spi_train = json.load(f)\n",
    "\n",
    "spi_train[0]['db_id']"
   ]
  },
  {
   "cell_type": "code",
   "execution_count": 62,
   "metadata": {},
   "outputs": [
    {
     "data": {
      "text/html": [
       "<div>\n",
       "<style scoped>\n",
       "    .dataframe tbody tr th:only-of-type {\n",
       "        vertical-align: middle;\n",
       "    }\n",
       "\n",
       "    .dataframe tbody tr th {\n",
       "        vertical-align: top;\n",
       "    }\n",
       "\n",
       "    .dataframe thead th {\n",
       "        text-align: right;\n",
       "    }\n",
       "</style>\n",
       "<table border=\"1\" class=\"dataframe\">\n",
       "  <thead>\n",
       "    <tr style=\"text-align: right;\">\n",
       "      <th></th>\n",
       "      <th>question</th>\n",
       "      <th>schema</th>\n",
       "    </tr>\n",
       "  </thead>\n",
       "  <tbody>\n",
       "    <tr>\n",
       "      <th>0</th>\n",
       "      <td>How many heads of the departments are older th...</td>\n",
       "      <td>department_management</td>\n",
       "    </tr>\n",
       "    <tr>\n",
       "      <th>1</th>\n",
       "      <td>List the name, born state and age of the heads...</td>\n",
       "      <td>department_management</td>\n",
       "    </tr>\n",
       "    <tr>\n",
       "      <th>2</th>\n",
       "      <td>List the creation year, name and budget of eac...</td>\n",
       "      <td>department_management</td>\n",
       "    </tr>\n",
       "    <tr>\n",
       "      <th>3</th>\n",
       "      <td>What are the maximum and minimum budget of the...</td>\n",
       "      <td>department_management</td>\n",
       "    </tr>\n",
       "    <tr>\n",
       "      <th>4</th>\n",
       "      <td>What is the average number of employees of the...</td>\n",
       "      <td>department_management</td>\n",
       "    </tr>\n",
       "  </tbody>\n",
       "</table>\n",
       "</div>"
      ],
      "text/plain": [
       "                                            question                 schema\n",
       "0  How many heads of the departments are older th...  department_management\n",
       "1  List the name, born state and age of the heads...  department_management\n",
       "2  List the creation year, name and budget of eac...  department_management\n",
       "3  What are the maximum and minimum budget of the...  department_management\n",
       "4  What is the average number of employees of the...  department_management"
      ]
     },
     "execution_count": 62,
     "metadata": {},
     "output_type": "execute_result"
    }
   ],
   "source": [
    "training_df = pd.json_normalize(spi_train)[['question','db_id']]\n",
    "\n",
    "training_df = training_df.rename(columns={'db_id': 'schema'})\n",
    "\n",
    "training_df.head()"
   ]
  },
  {
   "cell_type": "markdown",
   "metadata": {},
   "source": [
    "## Write Loop to Test each of these questions against the vector db."
   ]
  },
  {
   "cell_type": "markdown",
   "metadata": {},
   "source": [
    "This could take a while. Make sure to do some tests. :)"
   ]
  },
  {
   "cell_type": "code",
   "execution_count": 63,
   "metadata": {},
   "outputs": [],
   "source": [
    "#write function for similarity search to apply to each row of the dataframe\n",
    "def sim_search(question, k=3):\n",
    "    top_results = vectordb.similarity_search(question, k=k)\n",
    "    tgt_schema = list(dict.fromkeys([doc.metadata['schema'] for doc in top_results]))\n",
    "\n",
    "    return tgt_schema"
   ]
  },
  {
   "cell_type": "code",
   "execution_count": 64,
   "metadata": {},
   "outputs": [
    {
     "data": {
      "text/html": [
       "<div>\n",
       "<style scoped>\n",
       "    .dataframe tbody tr th:only-of-type {\n",
       "        vertical-align: middle;\n",
       "    }\n",
       "\n",
       "    .dataframe tbody tr th {\n",
       "        vertical-align: top;\n",
       "    }\n",
       "\n",
       "    .dataframe thead th {\n",
       "        text-align: right;\n",
       "    }\n",
       "</style>\n",
       "<table border=\"1\" class=\"dataframe\">\n",
       "  <thead>\n",
       "    <tr style=\"text-align: right;\">\n",
       "      <th></th>\n",
       "      <th>question</th>\n",
       "      <th>schema</th>\n",
       "      <th>top_three</th>\n",
       "      <th>top_schema</th>\n",
       "    </tr>\n",
       "  </thead>\n",
       "  <tbody>\n",
       "    <tr>\n",
       "      <th>0</th>\n",
       "      <td>How many heads of the departments are older th...</td>\n",
       "      <td>department_management</td>\n",
       "      <td>[department_management, hr_1]</td>\n",
       "      <td>department_management</td>\n",
       "    </tr>\n",
       "    <tr>\n",
       "      <th>1</th>\n",
       "      <td>List the name, born state and age of the heads...</td>\n",
       "      <td>department_management</td>\n",
       "      <td>[department_management, local_govt_in_alabama]</td>\n",
       "      <td>department_management</td>\n",
       "    </tr>\n",
       "    <tr>\n",
       "      <th>2</th>\n",
       "      <td>List the creation year, name and budget of eac...</td>\n",
       "      <td>department_management</td>\n",
       "      <td>[department_management, e_government]</td>\n",
       "      <td>department_management</td>\n",
       "    </tr>\n",
       "  </tbody>\n",
       "</table>\n",
       "</div>"
      ],
      "text/plain": [
       "                                            question                 schema  \\\n",
       "0  How many heads of the departments are older th...  department_management   \n",
       "1  List the name, born state and age of the heads...  department_management   \n",
       "2  List the creation year, name and budget of eac...  department_management   \n",
       "\n",
       "                                        top_three             top_schema  \n",
       "0                   [department_management, hr_1]  department_management  \n",
       "1  [department_management, local_govt_in_alabama]  department_management  \n",
       "2           [department_management, e_government]  department_management  "
      ]
     },
     "execution_count": 64,
     "metadata": {},
     "output_type": "execute_result"
    }
   ],
   "source": [
    "#test function on 10 row df\n",
    "df_test = training_df[['question','schema']].head(10)\n",
    "\n",
    "df_test['top_three'] = df_test.apply(lambda x: sim_search(x['question'], k=3), axis=1)\n",
    "df_test['top_schema'] = df_test.apply(lambda x: x['top_three'][0], axis=1)\n",
    "\n",
    "df_test.head(3)"
   ]
  },
  {
   "cell_type": "code",
   "execution_count": 65,
   "metadata": {},
   "outputs": [],
   "source": [
    "#Use this function to create two new fields in our training dataframe: top result and top 3 results (unique)\n",
    "training_df['top_three_unique'] = training_df.apply(lambda x: sim_search(x['question'], k=3), axis=1)\n",
    "training_df['top_schema'] = training_df.apply(lambda x: x['top_three_unique'][0], axis=1)"
   ]
  },
  {
   "cell_type": "code",
   "execution_count": 66,
   "metadata": {},
   "outputs": [
    {
     "data": {
      "text/html": [
       "<div>\n",
       "<style scoped>\n",
       "    .dataframe tbody tr th:only-of-type {\n",
       "        vertical-align: middle;\n",
       "    }\n",
       "\n",
       "    .dataframe tbody tr th {\n",
       "        vertical-align: top;\n",
       "    }\n",
       "\n",
       "    .dataframe thead th {\n",
       "        text-align: right;\n",
       "    }\n",
       "</style>\n",
       "<table border=\"1\" class=\"dataframe\">\n",
       "  <thead>\n",
       "    <tr style=\"text-align: right;\">\n",
       "      <th></th>\n",
       "      <th>question</th>\n",
       "      <th>schema</th>\n",
       "      <th>top_three_unique</th>\n",
       "      <th>top_schema</th>\n",
       "    </tr>\n",
       "  </thead>\n",
       "  <tbody>\n",
       "    <tr>\n",
       "      <th>0</th>\n",
       "      <td>How many heads of the departments are older th...</td>\n",
       "      <td>department_management</td>\n",
       "      <td>[department_management, hr_1]</td>\n",
       "      <td>department_management</td>\n",
       "    </tr>\n",
       "    <tr>\n",
       "      <th>1</th>\n",
       "      <td>List the name, born state and age of the heads...</td>\n",
       "      <td>department_management</td>\n",
       "      <td>[department_management, local_govt_in_alabama]</td>\n",
       "      <td>department_management</td>\n",
       "    </tr>\n",
       "    <tr>\n",
       "      <th>2</th>\n",
       "      <td>List the creation year, name and budget of eac...</td>\n",
       "      <td>department_management</td>\n",
       "      <td>[department_management, e_government]</td>\n",
       "      <td>department_management</td>\n",
       "    </tr>\n",
       "    <tr>\n",
       "      <th>3</th>\n",
       "      <td>What are the maximum and minimum budget of the...</td>\n",
       "      <td>department_management</td>\n",
       "      <td>[department_management, e_government]</td>\n",
       "      <td>department_management</td>\n",
       "    </tr>\n",
       "    <tr>\n",
       "      <th>4</th>\n",
       "      <td>What is the average number of employees of the...</td>\n",
       "      <td>department_management</td>\n",
       "      <td>[department_store, department_management, hr_1]</td>\n",
       "      <td>department_store</td>\n",
       "    </tr>\n",
       "  </tbody>\n",
       "</table>\n",
       "</div>"
      ],
      "text/plain": [
       "                                            question                 schema  \\\n",
       "0  How many heads of the departments are older th...  department_management   \n",
       "1  List the name, born state and age of the heads...  department_management   \n",
       "2  List the creation year, name and budget of eac...  department_management   \n",
       "3  What are the maximum and minimum budget of the...  department_management   \n",
       "4  What is the average number of employees of the...  department_management   \n",
       "\n",
       "                                  top_three_unique             top_schema  \n",
       "0                    [department_management, hr_1]  department_management  \n",
       "1   [department_management, local_govt_in_alabama]  department_management  \n",
       "2            [department_management, e_government]  department_management  \n",
       "3            [department_management, e_government]  department_management  \n",
       "4  [department_store, department_management, hr_1]       department_store  "
      ]
     },
     "execution_count": 66,
     "metadata": {},
     "output_type": "execute_result"
    }
   ],
   "source": [
    "training_df.head()"
   ]
  },
  {
   "cell_type": "code",
   "execution_count": 68,
   "metadata": {},
   "outputs": [],
   "source": [
    "#create new column that flag 1-0 if the schema matches the top 1.\n",
    "training_df['top_match'] = np.where(training_df['schema'] == training_df['top_schema'], 1, 0)"
   ]
  },
  {
   "cell_type": "code",
   "execution_count": 79,
   "metadata": {},
   "outputs": [],
   "source": [
    "#now for the top 3 unique\n",
    "#define a function for this\n",
    "def is_schema_in_top_three(row):\n",
    "    if row['schema'] in row['top_three_unique']:\n",
    "        boo = 1\n",
    "    else:\n",
    "        boo = 0\n",
    "    return boo"
   ]
  },
  {
   "cell_type": "code",
   "execution_count": 80,
   "metadata": {},
   "outputs": [],
   "source": [
    "# Apply the function to each row using 'apply' and store the result in a new column 'is_in_top_three'\n",
    "training_df['is_in_top_three'] = training_df.apply(is_schema_in_top_three, axis=1)"
   ]
  },
  {
   "cell_type": "code",
   "execution_count": 81,
   "metadata": {},
   "outputs": [
    {
     "data": {
      "text/html": [
       "<div>\n",
       "<style scoped>\n",
       "    .dataframe tbody tr th:only-of-type {\n",
       "        vertical-align: middle;\n",
       "    }\n",
       "\n",
       "    .dataframe tbody tr th {\n",
       "        vertical-align: top;\n",
       "    }\n",
       "\n",
       "    .dataframe thead th {\n",
       "        text-align: right;\n",
       "    }\n",
       "</style>\n",
       "<table border=\"1\" class=\"dataframe\">\n",
       "  <thead>\n",
       "    <tr style=\"text-align: right;\">\n",
       "      <th></th>\n",
       "      <th>question</th>\n",
       "      <th>schema</th>\n",
       "      <th>top_three_unique</th>\n",
       "      <th>top_schema</th>\n",
       "      <th>top_match</th>\n",
       "      <th>is_in_top_three</th>\n",
       "    </tr>\n",
       "  </thead>\n",
       "  <tbody>\n",
       "    <tr>\n",
       "      <th>0</th>\n",
       "      <td>How many heads of the departments are older th...</td>\n",
       "      <td>department_management</td>\n",
       "      <td>[department_management, hr_1]</td>\n",
       "      <td>department_management</td>\n",
       "      <td>1</td>\n",
       "      <td>1</td>\n",
       "    </tr>\n",
       "    <tr>\n",
       "      <th>1</th>\n",
       "      <td>List the name, born state and age of the heads...</td>\n",
       "      <td>department_management</td>\n",
       "      <td>[department_management, local_govt_in_alabama]</td>\n",
       "      <td>department_management</td>\n",
       "      <td>1</td>\n",
       "      <td>1</td>\n",
       "    </tr>\n",
       "    <tr>\n",
       "      <th>2</th>\n",
       "      <td>List the creation year, name and budget of eac...</td>\n",
       "      <td>department_management</td>\n",
       "      <td>[department_management, e_government]</td>\n",
       "      <td>department_management</td>\n",
       "      <td>1</td>\n",
       "      <td>1</td>\n",
       "    </tr>\n",
       "    <tr>\n",
       "      <th>3</th>\n",
       "      <td>What are the maximum and minimum budget of the...</td>\n",
       "      <td>department_management</td>\n",
       "      <td>[department_management, e_government]</td>\n",
       "      <td>department_management</td>\n",
       "      <td>1</td>\n",
       "      <td>1</td>\n",
       "    </tr>\n",
       "    <tr>\n",
       "      <th>4</th>\n",
       "      <td>What is the average number of employees of the...</td>\n",
       "      <td>department_management</td>\n",
       "      <td>[department_store, department_management, hr_1]</td>\n",
       "      <td>department_store</td>\n",
       "      <td>0</td>\n",
       "      <td>1</td>\n",
       "    </tr>\n",
       "    <tr>\n",
       "      <th>5</th>\n",
       "      <td>What are the names of the heads who are born o...</td>\n",
       "      <td>department_management</td>\n",
       "      <td>[voter_1, election, party_people]</td>\n",
       "      <td>voter_1</td>\n",
       "      <td>0</td>\n",
       "      <td>0</td>\n",
       "    </tr>\n",
       "    <tr>\n",
       "      <th>6</th>\n",
       "      <td>What are the distinct creation years of the de...</td>\n",
       "      <td>department_management</td>\n",
       "      <td>[local_govt_in_alabama]</td>\n",
       "      <td>local_govt_in_alabama</td>\n",
       "      <td>0</td>\n",
       "      <td>0</td>\n",
       "    </tr>\n",
       "    <tr>\n",
       "      <th>7</th>\n",
       "      <td>What are the names of the states where at leas...</td>\n",
       "      <td>department_management</td>\n",
       "      <td>[geo, world_1, voter_1]</td>\n",
       "      <td>geo</td>\n",
       "      <td>0</td>\n",
       "      <td>0</td>\n",
       "    </tr>\n",
       "    <tr>\n",
       "      <th>8</th>\n",
       "      <td>In which year were most departments established?</td>\n",
       "      <td>department_management</td>\n",
       "      <td>[department_management, hr_1]</td>\n",
       "      <td>department_management</td>\n",
       "      <td>1</td>\n",
       "      <td>1</td>\n",
       "    </tr>\n",
       "    <tr>\n",
       "      <th>9</th>\n",
       "      <td>Show the name and number of employees for the ...</td>\n",
       "      <td>department_management</td>\n",
       "      <td>[department_management]</td>\n",
       "      <td>department_management</td>\n",
       "      <td>1</td>\n",
       "      <td>1</td>\n",
       "    </tr>\n",
       "  </tbody>\n",
       "</table>\n",
       "</div>"
      ],
      "text/plain": [
       "                                            question                 schema  \\\n",
       "0  How many heads of the departments are older th...  department_management   \n",
       "1  List the name, born state and age of the heads...  department_management   \n",
       "2  List the creation year, name and budget of eac...  department_management   \n",
       "3  What are the maximum and minimum budget of the...  department_management   \n",
       "4  What is the average number of employees of the...  department_management   \n",
       "5  What are the names of the heads who are born o...  department_management   \n",
       "6  What are the distinct creation years of the de...  department_management   \n",
       "7  What are the names of the states where at leas...  department_management   \n",
       "8   In which year were most departments established?  department_management   \n",
       "9  Show the name and number of employees for the ...  department_management   \n",
       "\n",
       "                                  top_three_unique             top_schema  \\\n",
       "0                    [department_management, hr_1]  department_management   \n",
       "1   [department_management, local_govt_in_alabama]  department_management   \n",
       "2            [department_management, e_government]  department_management   \n",
       "3            [department_management, e_government]  department_management   \n",
       "4  [department_store, department_management, hr_1]       department_store   \n",
       "5                [voter_1, election, party_people]                voter_1   \n",
       "6                          [local_govt_in_alabama]  local_govt_in_alabama   \n",
       "7                          [geo, world_1, voter_1]                    geo   \n",
       "8                    [department_management, hr_1]  department_management   \n",
       "9                          [department_management]  department_management   \n",
       "\n",
       "   top_match  is_in_top_three  \n",
       "0          1                1  \n",
       "1          1                1  \n",
       "2          1                1  \n",
       "3          1                1  \n",
       "4          0                1  \n",
       "5          0                0  \n",
       "6          0                0  \n",
       "7          0                0  \n",
       "8          1                1  \n",
       "9          1                1  "
      ]
     },
     "execution_count": 81,
     "metadata": {},
     "output_type": "execute_result"
    }
   ],
   "source": [
    "training_df.head(10)"
   ]
  },
  {
   "cell_type": "markdown",
   "metadata": {},
   "source": [
    "### Evaluate Results\n",
    "\n",
    "Look at pure accuracy - what % of the total match for the top 1 and top 3 unique?"
   ]
  },
  {
   "cell_type": "code",
   "execution_count": 84,
   "metadata": {},
   "outputs": [],
   "source": [
    "#total rows\n",
    "tot_q = training_df.shape[0]\n",
    "\n",
    "#top 1 match\n",
    "top_one_match = training_df['top_match'].sum()\n",
    "\n",
    "#top 3 match\n",
    "top_three_match = training_df['is_in_top_three'].sum()"
   ]
  },
  {
   "cell_type": "code",
   "execution_count": 90,
   "metadata": {},
   "outputs": [
    {
     "name": "stdout",
     "output_type": "stream",
     "text": [
      "1st result matches: 42.13%\n",
      "Top 3 results match: 57.00%\n"
     ]
    }
   ],
   "source": [
    "print(f\"1st result matches: {top_one_match/tot_q:.2%}\")\n",
    "print(f\"Top 3 results match: {top_three_match/tot_q:.2%}\")"
   ]
  },
  {
   "cell_type": "markdown",
   "metadata": {},
   "source": [
    "I've got a lot of room for improvement!\n",
    "\n",
    "I think I want to try loading more metadata about the schema - tables. And using some entity extraction on the question, combining both steps."
   ]
  }
 ],
 "metadata": {
  "kernelspec": {
   "display_name": "text2sql",
   "language": "python",
   "name": "python3"
  },
  "language_info": {
   "codemirror_mode": {
    "name": "ipython",
    "version": 3
   },
   "file_extension": ".py",
   "mimetype": "text/x-python",
   "name": "python",
   "nbconvert_exporter": "python",
   "pygments_lexer": "ipython3",
   "version": "3.11.4"
  },
  "orig_nbformat": 4
 },
 "nbformat": 4,
 "nbformat_minor": 2
}

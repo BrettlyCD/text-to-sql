{
 "cells": [
  {
   "attachments": {},
   "cell_type": "markdown",
   "metadata": {},
   "source": [
    "# Exploratory Data Analysis\n",
    "\n",
    "This feels a little out of order because I've already done some processing. But that was crucial to be able to look at the data further. With that done, I have a few EDA angles to take here.\n",
    "\n",
    "1. Look for representation of each schema in my data, and how balanced that representation is.\n",
    "2. Look at word frequency in my questions, see if anything looks out of whack.\n",
    "3. Look at similarity between schema titles. I may not fix anything here, but want to know what challenges I may face in modelling, predicting."
   ]
  },
  {
   "cell_type": "code",
   "execution_count": null,
   "metadata": {
    "vscode": {
     "languageId": "plaintext"
    }
   },
   "outputs": [],
   "source": []
  }
 ],
 "metadata": {
  "language_info": {
   "name": "python"
  },
  "orig_nbformat": 4
 },
 "nbformat": 4,
 "nbformat_minor": 2
}

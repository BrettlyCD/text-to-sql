{
 "cells": [
  {
   "attachments": {},
   "cell_type": "markdown",
   "metadata": {},
   "source": [
    "# Exploratory Data Analysis\n",
    "\n",
    "This feels a little out of order because I've already done some processing. But that was crucial to be able to look at the data further. With that done, I have a few EDA angles to take here.\n",
    "\n",
    "1. Look for representation of each schema in my data, and how balanced that representation is.\n",
    "2. Look at word frequency in my questions, see if anything looks out of whack.\n",
    "3. Look at similarity between schema titles. I may not fix anything here, but want to know what challenges I may face in modelling, predicting."
   ]
  },
  {
   "attachments": {},
   "cell_type": "markdown",
   "metadata": {},
   "source": [
    "## Imports & Data Loading"
   ]
  },
  {
   "cell_type": "code",
   "execution_count": 31,
   "metadata": {},
   "outputs": [],
   "source": [
    "import pandas as pd\n",
    "import matplotlib.pyplot as plt\n",
    "import seaborn as sns\n",
    "\n",
    "import json\n",
    "import pickle #for loading processed data\n",
    "\n",
    "%matplotlib inline"
   ]
  },
  {
   "cell_type": "code",
   "execution_count": 32,
   "metadata": {},
   "outputs": [
    {
     "data": {
      "text/html": [
       "<div>\n",
       "<style scoped>\n",
       "    .dataframe tbody tr th:only-of-type {\n",
       "        vertical-align: middle;\n",
       "    }\n",
       "\n",
       "    .dataframe tbody tr th {\n",
       "        vertical-align: top;\n",
       "    }\n",
       "\n",
       "    .dataframe thead th {\n",
       "        text-align: right;\n",
       "    }\n",
       "</style>\n",
       "<table border=\"1\" class=\"dataframe\">\n",
       "  <thead>\n",
       "    <tr style=\"text-align: right;\">\n",
       "      <th></th>\n",
       "      <th>schema</th>\n",
       "      <th>question_proc</th>\n",
       "    </tr>\n",
       "  </thead>\n",
       "  <tbody>\n",
       "    <tr>\n",
       "      <th>0</th>\n",
       "      <td>department_management</td>\n",
       "      <td>[many, head, department, older, 56]</td>\n",
       "    </tr>\n",
       "    <tr>\n",
       "      <th>1</th>\n",
       "      <td>department_management</td>\n",
       "      <td>[list, name, bear, state, age, head, departmen...</td>\n",
       "    </tr>\n",
       "    <tr>\n",
       "      <th>2</th>\n",
       "      <td>department_management</td>\n",
       "      <td>[list, creation, year, name, budget, department]</td>\n",
       "    </tr>\n",
       "    <tr>\n",
       "      <th>3</th>\n",
       "      <td>department_management</td>\n",
       "      <td>[maximum, minimum, budget, department]</td>\n",
       "    </tr>\n",
       "    <tr>\n",
       "      <th>4</th>\n",
       "      <td>department_management</td>\n",
       "      <td>[average, number, employee, department, whose,...</td>\n",
       "    </tr>\n",
       "  </tbody>\n",
       "</table>\n",
       "</div>"
      ],
      "text/plain": [
       "                  schema                                      question_proc\n",
       "0  department_management                [many, head, department, older, 56]\n",
       "1  department_management  [list, name, bear, state, age, head, departmen...\n",
       "2  department_management   [list, creation, year, name, budget, department]\n",
       "3  department_management             [maximum, minimum, budget, department]\n",
       "4  department_management  [average, number, employee, department, whose,..."
      ]
     },
     "execution_count": 32,
     "metadata": {},
     "output_type": "execute_result"
    }
   ],
   "source": [
    "with open('../data/processed/processed_training_data.pkl', 'rb') as pkl_file:\n",
    "    training = pickle.load(pkl_file)\n",
    "\n",
    "training.head()"
   ]
  },
  {
   "attachments": {},
   "cell_type": "markdown",
   "metadata": {
    "vscode": {
     "languageId": "plaintext"
    }
   },
   "source": [
    "## Training Data EDA\n",
    "\n",
    "### 1. Schema Representation"
   ]
  },
  {
   "attachments": {},
   "cell_type": "markdown",
   "metadata": {},
   "source": [
    "#### Bring in schema information to compare to training data"
   ]
  },
  {
   "cell_type": "code",
   "execution_count": 34,
   "metadata": {},
   "outputs": [
    {
     "data": {
      "text/html": [
       "<div>\n",
       "<style scoped>\n",
       "    .dataframe tbody tr th:only-of-type {\n",
       "        vertical-align: middle;\n",
       "    }\n",
       "\n",
       "    .dataframe tbody tr th {\n",
       "        vertical-align: top;\n",
       "    }\n",
       "\n",
       "    .dataframe thead th {\n",
       "        text-align: right;\n",
       "    }\n",
       "</style>\n",
       "<table border=\"1\" class=\"dataframe\">\n",
       "  <thead>\n",
       "    <tr style=\"text-align: right;\">\n",
       "      <th></th>\n",
       "      <th>schema</th>\n",
       "      <th>table</th>\n",
       "      <th>column_name</th>\n",
       "      <th>column_type</th>\n",
       "      <th>is_primary_key</th>\n",
       "      <th>is_foreign_key</th>\n",
       "      <th>fk_reference_table</th>\n",
       "      <th>fk_reference_column</th>\n",
       "    </tr>\n",
       "  </thead>\n",
       "  <tbody>\n",
       "    <tr>\n",
       "      <th>0</th>\n",
       "      <td>perpetrator</td>\n",
       "      <td>perpetrator</td>\n",
       "      <td>perpetrator_id</td>\n",
       "      <td>numeric</td>\n",
       "      <td>True</td>\n",
       "      <td>False</td>\n",
       "      <td>NaN</td>\n",
       "      <td>NaN</td>\n",
       "    </tr>\n",
       "    <tr>\n",
       "      <th>1</th>\n",
       "      <td>perpetrator</td>\n",
       "      <td>perpetrator</td>\n",
       "      <td>people_id</td>\n",
       "      <td>numeric</td>\n",
       "      <td>False</td>\n",
       "      <td>True</td>\n",
       "      <td>people</td>\n",
       "      <td>People_ID</td>\n",
       "    </tr>\n",
       "    <tr>\n",
       "      <th>2</th>\n",
       "      <td>perpetrator</td>\n",
       "      <td>perpetrator</td>\n",
       "      <td>date_value</td>\n",
       "      <td>date</td>\n",
       "      <td>False</td>\n",
       "      <td>False</td>\n",
       "      <td>NaN</td>\n",
       "      <td>NaN</td>\n",
       "    </tr>\n",
       "    <tr>\n",
       "      <th>3</th>\n",
       "      <td>perpetrator</td>\n",
       "      <td>perpetrator</td>\n",
       "      <td>year</td>\n",
       "      <td>numeric</td>\n",
       "      <td>False</td>\n",
       "      <td>False</td>\n",
       "      <td>NaN</td>\n",
       "      <td>NaN</td>\n",
       "    </tr>\n",
       "    <tr>\n",
       "      <th>4</th>\n",
       "      <td>perpetrator</td>\n",
       "      <td>perpetrator</td>\n",
       "      <td>location</td>\n",
       "      <td>text</td>\n",
       "      <td>False</td>\n",
       "      <td>False</td>\n",
       "      <td>NaN</td>\n",
       "      <td>NaN</td>\n",
       "    </tr>\n",
       "  </tbody>\n",
       "</table>\n",
       "</div>"
      ],
      "text/plain": [
       "        schema        table     column_name column_type  is_primary_key  \\\n",
       "0  perpetrator  perpetrator  perpetrator_id     numeric            True   \n",
       "1  perpetrator  perpetrator       people_id     numeric           False   \n",
       "2  perpetrator  perpetrator      date_value        date           False   \n",
       "3  perpetrator  perpetrator            year     numeric           False   \n",
       "4  perpetrator  perpetrator        location        text           False   \n",
       "\n",
       "   is_foreign_key fk_reference_table fk_reference_column  \n",
       "0           False                NaN                 NaN  \n",
       "1            True             people           People_ID  \n",
       "2           False                NaN                 NaN  \n",
       "3           False                NaN                 NaN  \n",
       "4           False                NaN                 NaN  "
      ]
     },
     "execution_count": 34,
     "metadata": {},
     "output_type": "execute_result"
    }
   ],
   "source": [
    "schema = pd.read_csv('../data/processed/schema_info.csv')\n",
    "schema.head()"
   ]
  },
  {
   "attachments": {},
   "cell_type": "markdown",
   "metadata": {},
   "source": [
    "#### Compare schema in full schema info to schema in training data"
   ]
  },
  {
   "cell_type": "code",
   "execution_count": 35,
   "metadata": {},
   "outputs": [],
   "source": [
    "#create unique lists of schemas from each source\n",
    "schema_list = schema['schema'].unique().tolist()\n",
    "training_list = training['schema'].unique().tolist()"
   ]
  },
  {
   "cell_type": "code",
   "execution_count": 36,
   "metadata": {},
   "outputs": [
    {
     "name": "stdout",
     "output_type": "stream",
     "text": [
      "These 20 schemas are not represented:\n",
      "\n",
      "['battle_death', 'car_1', 'concert_singer', 'course_teach', 'cre_Doc_Template_Mgt', 'dog_kennels', 'employee_hire_evaluation', 'flight_2', 'museum_visit', 'network_1', 'orchestra', 'pets_1', 'poker_player', 'real_estate_properties', 'singer', 'student_transcripts_tracking', 'tvshow', 'voter_1', 'world_1', 'wta_1']\n"
     ]
    }
   ],
   "source": [
    "#highlight missing values\n",
    "missing_values = list(set(schema_list) - set(training_list))\n",
    "\n",
    "print(\"These \" +str(len(missing_values)) +\" schemas are not represented:\\n\")\n",
    "print(sorted(missing_values))"
   ]
  },
  {
   "cell_type": "code",
   "execution_count": 37,
   "metadata": {},
   "outputs": [
    {
     "data": {
      "text/plain": [
       "schema\n",
       "flight_1          96\n",
       "flight_4          82\n",
       "flight_company    19\n",
       "Name: count, dtype: int64"
      ]
     },
     "execution_count": 37,
     "metadata": {},
     "output_type": "execute_result"
    }
   ],
   "source": [
    "#it's possible there may just be some lower vs. upper case issues on some of these? Let's confirm some items.\n",
    "\n",
    "training.loc[training.schema.str.contains('flight')]['schema'].value_counts()"
   ]
  },
  {
   "attachments": {},
   "cell_type": "markdown",
   "metadata": {},
   "source": [
    "It really does look like these 20 schemas are missing. I wonder if these are just withheld completely for testing?\n",
    "\n",
    "If we can't figure out if they are missing for a reason or just due to oversight we could benefit from writing some manual questions before we do a full pre-processing for training.\n",
    "\n",
    "\n",
    "#### Decision - Write more questions or accept missing schemas"
   ]
  },
  {
   "cell_type": "code",
   "execution_count": 38,
   "metadata": {},
   "outputs": [],
   "source": [
    "# Pull in test data to see if its represented (is this like seeing the bride before the wedding?)\n",
    "path = '../data/raw/spider/'\n",
    "\n",
    "with open(path+'dev.json', \"r\") as f:\n",
    "    dev = json.load(f)"
   ]
  },
  {
   "cell_type": "code",
   "execution_count": 39,
   "metadata": {},
   "outputs": [],
   "source": [
    "#create list of schemas represented\n",
    "dev_schemas = []\n",
    "\n",
    "for i in range(len(dev)):\n",
    "    schem = dev[i]['db_id']\n",
    "    dev_schemas.append(schem)"
   ]
  },
  {
   "cell_type": "code",
   "execution_count": 40,
   "metadata": {},
   "outputs": [
    {
     "name": "stdout",
     "output_type": "stream",
     "text": [
      "These 20 schemas are in the test data:\n",
      "\n",
      "['battle_death', 'car_1', 'concert_singer', 'course_teach', 'cre_Doc_Template_Mgt', 'dog_kennels', 'employee_hire_evaluation', 'flight_2', 'museum_visit', 'network_1', 'orchestra', 'pets_1', 'poker_player', 'real_estate_properties', 'singer', 'student_transcripts_tracking', 'tvshow', 'voter_1', 'world_1', 'wta_1']\n"
     ]
    }
   ],
   "source": [
    "#return which values match between our missing in training and our test data\n",
    "matching = list(set(missing_values) & set(dev_schemas))\n",
    "\n",
    "print(\"These \" +str(len(matching)) +\" schemas are in the test data:\\n\")\n",
    "print(sorted(matching))"
   ]
  },
  {
   "attachments": {},
   "cell_type": "markdown",
   "metadata": {},
   "source": [
    "They appear to be withheld on purpose. I'll keep moving on!\n",
    "\n",
    "#### View Distribution of Schemas\n",
    "\n",
    "Since there are so many, let's group everything that has less than 50 instances."
   ]
  },
  {
   "cell_type": "code",
   "execution_count": 41,
   "metadata": {},
   "outputs": [
    {
     "data": {
      "text/html": [
       "<div>\n",
       "<style scoped>\n",
       "    .dataframe tbody tr th:only-of-type {\n",
       "        vertical-align: middle;\n",
       "    }\n",
       "\n",
       "    .dataframe tbody tr th {\n",
       "        vertical-align: top;\n",
       "    }\n",
       "\n",
       "    .dataframe thead th {\n",
       "        text-align: right;\n",
       "    }\n",
       "</style>\n",
       "<table border=\"1\" class=\"dataframe\">\n",
       "  <thead>\n",
       "    <tr style=\"text-align: right;\">\n",
       "      <th></th>\n",
       "      <th>schema</th>\n",
       "      <th>counts</th>\n",
       "    </tr>\n",
       "  </thead>\n",
       "  <tbody>\n",
       "    <tr>\n",
       "      <th>0</th>\n",
       "      <td>scholar</td>\n",
       "      <td>569</td>\n",
       "    </tr>\n",
       "    <tr>\n",
       "      <th>1</th>\n",
       "      <td>geo</td>\n",
       "      <td>564</td>\n",
       "    </tr>\n",
       "    <tr>\n",
       "      <th>2</th>\n",
       "      <td>academic</td>\n",
       "      <td>181</td>\n",
       "    </tr>\n",
       "    <tr>\n",
       "      <th>3</th>\n",
       "      <td>college_2</td>\n",
       "      <td>170</td>\n",
       "    </tr>\n",
       "    <tr>\n",
       "      <th>4</th>\n",
       "      <td>college_1</td>\n",
       "      <td>164</td>\n",
       "    </tr>\n",
       "  </tbody>\n",
       "</table>\n",
       "</div>"
      ],
      "text/plain": [
       "      schema  counts\n",
       "0    scholar     569\n",
       "1        geo     564\n",
       "2   academic     181\n",
       "3  college_2     170\n",
       "4  college_1     164"
      ]
     },
     "execution_count": 41,
     "metadata": {},
     "output_type": "execute_result"
    }
   ],
   "source": [
    "#set counts into dataframe\n",
    "counts = training.schema.value_counts().rename_axis('schema').reset_index(name='counts')\n",
    "counts.head()"
   ]
  },
  {
   "cell_type": "code",
   "execution_count": 46,
   "metadata": {},
   "outputs": [
    {
     "data": {
      "image/png": "[encoded data removed]",
      "text/plain": [
       "<Figure size 640x480 with 1 Axes>"
      ]
     },
     "metadata": {},
     "output_type": "display_data"
    },
    {
     "name": "stdout",
     "output_type": "stream",
     "text": [
      "        schema  counts\n",
      "0      scholar     569\n",
      "1          geo     564\n",
      "2     academic     181\n",
      "3    college_2     170\n",
      "4    college_1     164\n",
      "5  restaurants     125\n",
      "6         hr_1     124\n",
      "7      store_1     112\n",
      "8         yelp     111\n",
      "9         imdb     109\n"
     ]
    }
   ],
   "source": [
    "#visualize histogram of schema representation (count)\n",
    "sns.set(style=\"darkgrid\")\n",
    "\n",
    "sns.histplot(data=counts, x='counts', bins=15)\n",
    "plt.show()\n",
    "\n",
    "print(counts.head(10))"
   ]
  },
  {
   "attachments": {},
   "cell_type": "markdown",
   "metadata": {},
   "source": [
    "We are very heavy on the scholar and geo dataframes. These aren't part of the main spider data, but from other common datasources added to the project.\n",
    "\n",
    "Apart from unbalanced classes, this isn't necessarily an issue. We could do a balancing step. But we could also drop these and focus on only the main spider database. I'll come back to that later."
   ]
  },
  {
   "attachments": {},
   "cell_type": "markdown",
   "metadata": {},
   "source": [
    "### 2. Question Word Frequency"
   ]
  },
  {
   "cell_type": "code",
   "execution_count": null,
   "metadata": {},
   "outputs": [],
   "source": []
  }
 ],
 "metadata": {
  "kernelspec": {
   "display_name": "text2sql",
   "language": "python",
   "name": "python3"
  },
  "language_info": {
   "codemirror_mode": {
    "name": "ipython",
    "version": 3
   },
   "file_extension": ".py",
   "mimetype": "text/x-python",
   "name": "python",
   "nbconvert_exporter": "python",
   "pygments_lexer": "ipython3",
   "version": "3.11.4"
  },
  "orig_nbformat": 4
 },
 "nbformat": 4,
 "nbformat_minor": 2
}

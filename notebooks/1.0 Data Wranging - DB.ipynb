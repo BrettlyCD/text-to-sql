{
 "cells": [
  {
   "attachments": {},
   "cell_type": "markdown",
   "metadata": {},
   "source": [
    "## Load Data Into Postgres Database\n",
    "\n",
    "### Merge all .sql files into one for easy loading into database\n",
    "\n",
    "The sample data comes with full .sql files that create and insert into tables. The added challenege will be to specify the schema and then load in the tables. As the standard structure assumes a lot of different databases and then tables. But I want to do a single database with different schemas and tables underneath those."
   ]
  },
  {
   "cell_type": "code",
   "execution_count": 50,
   "metadata": {},
   "outputs": [],
   "source": [
    "import os\n",
    "import json\n",
    "import pandas as pd\n",
    "import numpy as np"
   ]
  },
  {
   "cell_type": "code",
   "execution_count": 51,
   "metadata": {},
   "outputs": [],
   "source": [
    "directory = os.fsencode('/Users/brettly/Sboard/projects/text-to-sql/data/raw/spider/database')\n",
    "schemas = []\n",
    "\n",
    "for subdir, dirs, files in os.walk(directory):\n",
    "    for dir in dirs:\n",
    "        schemas.append(os.fsdecode(dir))\n",
    "    #for file in files:\n",
    "    #    filename = os.fsdecode(file)\n",
    "    #    if filename.endswith('.sql'):\n",
    "    #        path = os.path.join(subdir, file)\n",
    "    #        print(path)\n",
    "    #    continue\n",
    "    #    else:\n",
    "    #        continue"
   ]
  },
  {
   "cell_type": "code",
   "execution_count": 52,
   "metadata": {},
   "outputs": [
    {
     "data": {
      "text/plain": [
       "['browser_web',\n",
       " 'musical',\n",
       " 'farm',\n",
       " 'voter_1',\n",
       " 'game_injury',\n",
       " 'hospital_1',\n",
       " 'manufacturer',\n",
       " 'station_weather',\n",
       " 'perpetrator',\n",
       " 'storm_record']"
      ]
     },
     "execution_count": 52,
     "metadata": {},
     "output_type": "execute_result"
    }
   ],
   "source": [
    "schemas[:10]"
   ]
  },
  {
   "attachments": {},
   "cell_type": "markdown",
   "metadata": {},
   "source": [
    "## Breakout tables.json into Schema info"
   ]
  },
  {
   "cell_type": "code",
   "execution_count": 53,
   "metadata": {},
   "outputs": [],
   "source": [
    "path = '../data/raw/spider/'\n",
    "\n",
    "with open(path+'tables.json', \"r\") as f:\n",
    "    data = json.load(f)"
   ]
  },
  {
   "cell_type": "code",
   "execution_count": 54,
   "metadata": {},
   "outputs": [
    {
     "data": {
      "text/plain": [
       "'college_2'"
      ]
     },
     "execution_count": 54,
     "metadata": {},
     "output_type": "execute_result"
    }
   ],
   "source": [
    "#path to schema name\n",
    "data[1]['db_id']"
   ]
  },
  {
   "cell_type": "code",
   "execution_count": 55,
   "metadata": {},
   "outputs": [
    {
     "data": {
      "text/plain": [
       "'people'"
      ]
     },
     "execution_count": 55,
     "metadata": {},
     "output_type": "execute_result"
    }
   ],
   "source": [
    "#path to first table\n",
    "data[0]['table_names_original'][1]"
   ]
  },
  {
   "cell_type": "code",
   "execution_count": 56,
   "metadata": {},
   "outputs": [
    {
     "name": "stdout",
     "output_type": "stream",
     "text": [
      "Perpetrator_ID\n",
      "People_ID\n",
      "Date\n",
      "Year\n",
      "Location\n",
      "Country\n",
      "Killed\n",
      "Injured\n"
     ]
    }
   ],
   "source": [
    "#path for fields in first table\n",
    "i = 0\n",
    "for field in data[0]['column_names_original']:\n",
    "    if data[0]['column_names_original'][i][0] == 0:\n",
    "        print(data[0]['column_names_original'][i][1])\n",
    "\n",
    "    i+=1"
   ]
  },
  {
   "cell_type": "code",
   "execution_count": 57,
   "metadata": {},
   "outputs": [
    {
     "data": {
      "text/plain": [
       "['text',\n",
       " 'number',\n",
       " 'number',\n",
       " 'text',\n",
       " 'number',\n",
       " 'text',\n",
       " 'text',\n",
       " 'number',\n",
       " 'number',\n",
       " 'number',\n",
       " 'text',\n",
       " 'number',\n",
       " 'number',\n",
       " 'text']"
      ]
     },
     "execution_count": 57,
     "metadata": {},
     "output_type": "execute_result"
    }
   ],
   "source": [
    "#path for column types -- these are in a big list, not by table\n",
    "data[0]['column_types']"
   ]
  },
  {
   "cell_type": "code",
   "execution_count": 58,
   "metadata": {},
   "outputs": [
    {
     "data": {
      "text/plain": [
       "[1, 9]"
      ]
     },
     "execution_count": 58,
     "metadata": {},
     "output_type": "execute_result"
    }
   ],
   "source": [
    "#path to primary keys\n",
    "data[0]['primary_keys']"
   ]
  },
  {
   "cell_type": "code",
   "execution_count": 59,
   "metadata": {},
   "outputs": [
    {
     "data": {
      "text/plain": [
       "[2, 9]"
      ]
     },
     "execution_count": 59,
     "metadata": {},
     "output_type": "execute_result"
    }
   ],
   "source": [
    "#path to foreign keys\n",
    "data[0]['foreign_keys'][0]"
   ]
  },
  {
   "cell_type": "code",
   "execution_count": 60,
   "metadata": {},
   "outputs": [
    {
     "data": {
      "text/plain": [
       "2"
      ]
     },
     "execution_count": 60,
     "metadata": {},
     "output_type": "execute_result"
    }
   ],
   "source": [
    "data[0]['foreign_keys'][0][0]"
   ]
  },
  {
   "attachments": {},
   "cell_type": "markdown",
   "metadata": {},
   "source": [
    "## Build a Nested List"
   ]
  },
  {
   "cell_type": "code",
   "execution_count": 61,
   "metadata": {},
   "outputs": [],
   "source": [
    "#Create a nested list with the schema info\n",
    "#This won't continually build overtime, but reset the lists each time the parent cycle changes in order to create a complete list of unique schema, table, column, column info\n",
    "\n",
    "schema_info = [] #list for savings total schema info\n",
    "\n",
    "i = 0 #set initial i value, we will increase this each time we move to the next schema in the json file\n",
    "for item in data:\n",
    "#loop through schemas in the json file and add the schema name to a new list (schem_list)\n",
    "    schem_list = [] #initialize empty list\n",
    "    schema = data[i]['db_id'] #set variable to the db_id, which we will eventually title the schema\n",
    "    schem_list.append(schema) #append the variable to the schem_list\n",
    "    \n",
    "    k=0 #set initial k value, we will increase this each time we move to the next table within a schema\n",
    "    for table in data[i]['table_names_original']:\n",
    "    #loop through the tables in the current schema and add the table name to a new list (tab_list)\n",
    "        tab_list = [] #initialize empty list\n",
    "        tab_value=data[i]['table_names_original'][k] #set variable to the name of the table\n",
    "        tab_list.append(tab_value) #append the variable to the tab_list\n",
    "\n",
    "        #create empty lists for the column name, type, if its a primary key, if its a foreign key (and if so: the reference table and field)\n",
    "        col_list=[]\n",
    "        col_type_list=[]\n",
    "        col_pk_list=[]\n",
    "        col_fk_list=[]\n",
    "        col_fk_ref_tab_list=[]\n",
    "        col_fk_ref_col_list=[]\n",
    "\n",
    "        n = 0 #set initial n value, we will increase this each time we move to the next field within a table\n",
    "        for field in data[i]['column_names_original']:\n",
    "        #loop through the fields in each table and write the field info to seperate lists we will eventually zip\n",
    "            if data[i]['column_names_original'][n][0] == k: #the columns are not nested underneath the tables in the json, rather the first index is the table # and the second is the col name. So this checks to be sure we don't assign a col to the wrong table.\n",
    "                col_value = data[i]['column_names_original'][n][1] #set variable equal to the column name\n",
    "                col_list.append(col_value) #append name to the col_list table\n",
    "\n",
    "                col_type = data[i]['column_types'][n] #set variable equal to the column type\n",
    "                col_type_list.append(col_type) #append type to the col_type_list table\n",
    "\n",
    "                pk_flag = n in data[i]['primary_keys'] #set variable True/False for if the column is the primary key.\n",
    "                col_pk_list.append(pk_flag) #append the boolean to the list\n",
    "\n",
    "                b=0 #set initial b value, we will increase this each time we check the next foreign key column. The foreign key is not listed in the same way as the primary key, but rather it lists all the \n",
    "                fk_tup = (None, None, None, None) #create a blank tuple as a baseline so it doesn't error when we try to call on fk_tup within an if_statement\n",
    "                for fk in data[i]['foreign_keys']:\n",
    "                #loop through the foreign key list and parse out the field name, reference table, and reference field\n",
    "                    if data[i]['foreign_keys'][b][0] == n: #only parse out data if the foreign key matches the column we're currently looping through\n",
    "                        #expand tuple variables here\n",
    "                        fk_column = data[i]['foreign_keys'][b][0] #go through json and grab # of foreign key column\n",
    "                        fk_ref_table = data[i]['table_names_original'][data[i]['column_names_original'][data[i]['foreign_keys'][b][1]][0]] #find corresponding the reference table in the 1st index under foreign key and return the name\n",
    "                        fk_ref_column = data[i]['column_names_original'][data[i]['foreign_keys'][b][1]][1] #find corresponding field in reference table  and retun the name\n",
    "                        fk_tup = (fk_column, fk_ref_table, fk_ref_column) #create a tuple from our variables\n",
    "                    b+=1 #increment the foreign key item\n",
    "\n",
    "                if fk_tup[0] == n: #only perform if foreign key matches the current column\n",
    "                    col_fk_list.append(1==1) #append True\n",
    "                    col_fk_ref_tab_list.append(fk_tup[1]) #append reference table\n",
    "                    col_fk_ref_col_list.append(fk_tup[2]) #append reference field\n",
    "                else:\n",
    "                    col_fk_list.append(0==1) #append False\n",
    "                    col_fk_ref_tab_list.append(None) #append reference table\n",
    "                    col_fk_ref_col_list.append(None) #append reference field\n",
    "\n",
    "            n+=1 #increment the column item\n",
    "        column_info = list(zip(col_list, col_type_list, col_pk_list, col_fk_list, col_fk_ref_tab_list, col_fk_ref_col_list)) #zip together all the lists created with column info\n",
    "        combined = [schem_list, tab_list, column_info] #create a combined list with schema name, table name, and zipped column info. We'll unzip in the dataframe later\n",
    "        schema_info.append(combined) #append this combined info to the master schema info list\n",
    "        k+=1 #increment the table item\n",
    "    i+=1 #increment the schema item"
   ]
  },
  {
   "cell_type": "code",
   "execution_count": 62,
   "metadata": {},
   "outputs": [
    {
     "data": {
      "text/plain": [
       "[['perpetrator'],\n",
       " ['perpetrator'],\n",
       " [('Perpetrator_ID', 'number', True, False, None, None),\n",
       "  ('People_ID', 'number', False, True, 'people', 'People_ID'),\n",
       "  ('Date', 'text', False, False, None, None),\n",
       "  ('Year', 'number', False, False, None, None),\n",
       "  ('Location', 'text', False, False, None, None),\n",
       "  ('Country', 'text', False, False, None, None),\n",
       "  ('Killed', 'number', False, False, None, None),\n",
       "  ('Injured', 'number', False, False, None, None)]]"
      ]
     },
     "execution_count": 62,
     "metadata": {},
     "output_type": "execute_result"
    }
   ],
   "source": [
    "schema_info[0]"
   ]
  },
  {
   "attachments": {},
   "cell_type": "markdown",
   "metadata": {},
   "source": [
    "## Convert Nested List into Pandas Dataframe\n",
    "\n",
    "Using the explode function to breakout the unique combos of schema->table->column->info"
   ]
  },
  {
   "cell_type": "code",
   "execution_count": 63,
   "metadata": {},
   "outputs": [],
   "source": [
    "schema_df = (pd.DataFrame(schema_info, columns=['schema','table','column_info']).explode('schema', ignore_index=True).explode('table', ignore_index=True).explode('column_info', ignore_index=True))"
   ]
  },
  {
   "cell_type": "code",
   "execution_count": 64,
   "metadata": {},
   "outputs": [
    {
     "data": {
      "text/html": [
       "<div>\n",
       "<style scoped>\n",
       "    .dataframe tbody tr th:only-of-type {\n",
       "        vertical-align: middle;\n",
       "    }\n",
       "\n",
       "    .dataframe tbody tr th {\n",
       "        vertical-align: top;\n",
       "    }\n",
       "\n",
       "    .dataframe thead th {\n",
       "        text-align: right;\n",
       "    }\n",
       "</style>\n",
       "<table border=\"1\" class=\"dataframe\">\n",
       "  <thead>\n",
       "    <tr style=\"text-align: right;\">\n",
       "      <th></th>\n",
       "      <th>schema</th>\n",
       "      <th>table</th>\n",
       "      <th>column_info</th>\n",
       "    </tr>\n",
       "  </thead>\n",
       "  <tbody>\n",
       "    <tr>\n",
       "      <th>0</th>\n",
       "      <td>perpetrator</td>\n",
       "      <td>perpetrator</td>\n",
       "      <td>(Perpetrator_ID, number, True, False, None, None)</td>\n",
       "    </tr>\n",
       "    <tr>\n",
       "      <th>1</th>\n",
       "      <td>perpetrator</td>\n",
       "      <td>perpetrator</td>\n",
       "      <td>(People_ID, number, False, True, people, Peopl...</td>\n",
       "    </tr>\n",
       "    <tr>\n",
       "      <th>2</th>\n",
       "      <td>perpetrator</td>\n",
       "      <td>perpetrator</td>\n",
       "      <td>(Date, text, False, False, None, None)</td>\n",
       "    </tr>\n",
       "    <tr>\n",
       "      <th>3</th>\n",
       "      <td>perpetrator</td>\n",
       "      <td>perpetrator</td>\n",
       "      <td>(Year, number, False, False, None, None)</td>\n",
       "    </tr>\n",
       "    <tr>\n",
       "      <th>4</th>\n",
       "      <td>perpetrator</td>\n",
       "      <td>perpetrator</td>\n",
       "      <td>(Location, text, False, False, None, None)</td>\n",
       "    </tr>\n",
       "  </tbody>\n",
       "</table>\n",
       "</div>"
      ],
      "text/plain": [
       "        schema        table                                        column_info\n",
       "0  perpetrator  perpetrator  (Perpetrator_ID, number, True, False, None, None)\n",
       "1  perpetrator  perpetrator  (People_ID, number, False, True, people, Peopl...\n",
       "2  perpetrator  perpetrator             (Date, text, False, False, None, None)\n",
       "3  perpetrator  perpetrator           (Year, number, False, False, None, None)\n",
       "4  perpetrator  perpetrator         (Location, text, False, False, None, None)"
      ]
     },
     "execution_count": 64,
     "metadata": {},
     "output_type": "execute_result"
    }
   ],
   "source": [
    "schema_df.head()"
   ]
  },
  {
   "cell_type": "code",
   "execution_count": 65,
   "metadata": {},
   "outputs": [
    {
     "data": {
      "text/html": [
       "<div>\n",
       "<style scoped>\n",
       "    .dataframe tbody tr th:only-of-type {\n",
       "        vertical-align: middle;\n",
       "    }\n",
       "\n",
       "    .dataframe tbody tr th {\n",
       "        vertical-align: top;\n",
       "    }\n",
       "\n",
       "    .dataframe thead th {\n",
       "        text-align: right;\n",
       "    }\n",
       "</style>\n",
       "<table border=\"1\" class=\"dataframe\">\n",
       "  <thead>\n",
       "    <tr style=\"text-align: right;\">\n",
       "      <th></th>\n",
       "      <th>schema</th>\n",
       "      <th>table</th>\n",
       "      <th>column_info</th>\n",
       "      <th>column_name</th>\n",
       "      <th>column_type</th>\n",
       "      <th>is_primary_key</th>\n",
       "      <th>is_foreign_key</th>\n",
       "      <th>fk_reference_table</th>\n",
       "      <th>fk_reference_column</th>\n",
       "    </tr>\n",
       "  </thead>\n",
       "  <tbody>\n",
       "    <tr>\n",
       "      <th>0</th>\n",
       "      <td>perpetrator</td>\n",
       "      <td>perpetrator</td>\n",
       "      <td>(Perpetrator_ID, number, True, False, None, None)</td>\n",
       "      <td>Perpetrator_ID</td>\n",
       "      <td>number</td>\n",
       "      <td>True</td>\n",
       "      <td>False</td>\n",
       "      <td>None</td>\n",
       "      <td>None</td>\n",
       "    </tr>\n",
       "    <tr>\n",
       "      <th>1</th>\n",
       "      <td>perpetrator</td>\n",
       "      <td>perpetrator</td>\n",
       "      <td>(People_ID, number, False, True, people, Peopl...</td>\n",
       "      <td>People_ID</td>\n",
       "      <td>number</td>\n",
       "      <td>False</td>\n",
       "      <td>True</td>\n",
       "      <td>people</td>\n",
       "      <td>People_ID</td>\n",
       "    </tr>\n",
       "    <tr>\n",
       "      <th>2</th>\n",
       "      <td>perpetrator</td>\n",
       "      <td>perpetrator</td>\n",
       "      <td>(Date, text, False, False, None, None)</td>\n",
       "      <td>Date</td>\n",
       "      <td>text</td>\n",
       "      <td>False</td>\n",
       "      <td>False</td>\n",
       "      <td>None</td>\n",
       "      <td>None</td>\n",
       "    </tr>\n",
       "    <tr>\n",
       "      <th>3</th>\n",
       "      <td>perpetrator</td>\n",
       "      <td>perpetrator</td>\n",
       "      <td>(Year, number, False, False, None, None)</td>\n",
       "      <td>Year</td>\n",
       "      <td>number</td>\n",
       "      <td>False</td>\n",
       "      <td>False</td>\n",
       "      <td>None</td>\n",
       "      <td>None</td>\n",
       "    </tr>\n",
       "    <tr>\n",
       "      <th>4</th>\n",
       "      <td>perpetrator</td>\n",
       "      <td>perpetrator</td>\n",
       "      <td>(Location, text, False, False, None, None)</td>\n",
       "      <td>Location</td>\n",
       "      <td>text</td>\n",
       "      <td>False</td>\n",
       "      <td>False</td>\n",
       "      <td>None</td>\n",
       "      <td>None</td>\n",
       "    </tr>\n",
       "  </tbody>\n",
       "</table>\n",
       "</div>"
      ],
      "text/plain": [
       "        schema        table  \\\n",
       "0  perpetrator  perpetrator   \n",
       "1  perpetrator  perpetrator   \n",
       "2  perpetrator  perpetrator   \n",
       "3  perpetrator  perpetrator   \n",
       "4  perpetrator  perpetrator   \n",
       "\n",
       "                                         column_info     column_name  \\\n",
       "0  (Perpetrator_ID, number, True, False, None, None)  Perpetrator_ID   \n",
       "1  (People_ID, number, False, True, people, Peopl...       People_ID   \n",
       "2             (Date, text, False, False, None, None)            Date   \n",
       "3           (Year, number, False, False, None, None)            Year   \n",
       "4         (Location, text, False, False, None, None)        Location   \n",
       "\n",
       "  column_type  is_primary_key  is_foreign_key fk_reference_table  \\\n",
       "0      number            True           False               None   \n",
       "1      number           False            True             people   \n",
       "2        text           False           False               None   \n",
       "3      number           False           False               None   \n",
       "4        text           False           False               None   \n",
       "\n",
       "  fk_reference_column  \n",
       "0                None  \n",
       "1           People_ID  \n",
       "2                None  \n",
       "3                None  \n",
       "4                None  "
      ]
     },
     "execution_count": 65,
     "metadata": {},
     "output_type": "execute_result"
    }
   ],
   "source": [
    "#unzeip the column info into their own columns\n",
    "schema_df[['column_name','column_type','is_primary_key','is_foreign_key','fk_reference_table','fk_reference_column']] = pd.DataFrame(schema_df.column_info.tolist(), index=schema_df.index)\n",
    "\n",
    "schema_df.head()"
   ]
  },
  {
   "cell_type": "code",
   "execution_count": 66,
   "metadata": {},
   "outputs": [],
   "source": [
    "#drop tuple data and sort alphabetically\n",
    "schema_df = schema_df.drop(columns=['column_info'])"
   ]
  },
  {
   "cell_type": "code",
   "execution_count": 67,
   "metadata": {},
   "outputs": [],
   "source": [
    "#replace 'None' with NaN\n",
    "schema_df = schema_df.fillna(value=np.nan)"
   ]
  },
  {
   "cell_type": "code",
   "execution_count": 68,
   "metadata": {},
   "outputs": [
    {
     "data": {
      "text/html": [
       "<div>\n",
       "<style scoped>\n",
       "    .dataframe tbody tr th:only-of-type {\n",
       "        vertical-align: middle;\n",
       "    }\n",
       "\n",
       "    .dataframe tbody tr th {\n",
       "        vertical-align: top;\n",
       "    }\n",
       "\n",
       "    .dataframe thead th {\n",
       "        text-align: right;\n",
       "    }\n",
       "</style>\n",
       "<table border=\"1\" class=\"dataframe\">\n",
       "  <thead>\n",
       "    <tr style=\"text-align: right;\">\n",
       "      <th></th>\n",
       "      <th>schema</th>\n",
       "      <th>table</th>\n",
       "      <th>column_name</th>\n",
       "      <th>column_type</th>\n",
       "      <th>is_primary_key</th>\n",
       "      <th>is_foreign_key</th>\n",
       "      <th>fk_reference_table</th>\n",
       "      <th>fk_reference_column</th>\n",
       "    </tr>\n",
       "  </thead>\n",
       "  <tbody>\n",
       "    <tr>\n",
       "      <th>0</th>\n",
       "      <td>perpetrator</td>\n",
       "      <td>perpetrator</td>\n",
       "      <td>Perpetrator_ID</td>\n",
       "      <td>number</td>\n",
       "      <td>True</td>\n",
       "      <td>False</td>\n",
       "      <td>NaN</td>\n",
       "      <td>NaN</td>\n",
       "    </tr>\n",
       "    <tr>\n",
       "      <th>1</th>\n",
       "      <td>perpetrator</td>\n",
       "      <td>perpetrator</td>\n",
       "      <td>People_ID</td>\n",
       "      <td>number</td>\n",
       "      <td>False</td>\n",
       "      <td>True</td>\n",
       "      <td>people</td>\n",
       "      <td>People_ID</td>\n",
       "    </tr>\n",
       "    <tr>\n",
       "      <th>2</th>\n",
       "      <td>perpetrator</td>\n",
       "      <td>perpetrator</td>\n",
       "      <td>Date</td>\n",
       "      <td>text</td>\n",
       "      <td>False</td>\n",
       "      <td>False</td>\n",
       "      <td>NaN</td>\n",
       "      <td>NaN</td>\n",
       "    </tr>\n",
       "    <tr>\n",
       "      <th>3</th>\n",
       "      <td>perpetrator</td>\n",
       "      <td>perpetrator</td>\n",
       "      <td>Year</td>\n",
       "      <td>number</td>\n",
       "      <td>False</td>\n",
       "      <td>False</td>\n",
       "      <td>NaN</td>\n",
       "      <td>NaN</td>\n",
       "    </tr>\n",
       "    <tr>\n",
       "      <th>4</th>\n",
       "      <td>perpetrator</td>\n",
       "      <td>perpetrator</td>\n",
       "      <td>Location</td>\n",
       "      <td>text</td>\n",
       "      <td>False</td>\n",
       "      <td>False</td>\n",
       "      <td>NaN</td>\n",
       "      <td>NaN</td>\n",
       "    </tr>\n",
       "  </tbody>\n",
       "</table>\n",
       "</div>"
      ],
      "text/plain": [
       "        schema        table     column_name column_type  is_primary_key  \\\n",
       "0  perpetrator  perpetrator  Perpetrator_ID      number            True   \n",
       "1  perpetrator  perpetrator       People_ID      number           False   \n",
       "2  perpetrator  perpetrator            Date        text           False   \n",
       "3  perpetrator  perpetrator            Year      number           False   \n",
       "4  perpetrator  perpetrator        Location        text           False   \n",
       "\n",
       "   is_foreign_key fk_reference_table fk_reference_column  \n",
       "0           False                NaN                 NaN  \n",
       "1            True             people           People_ID  \n",
       "2           False                NaN                 NaN  \n",
       "3           False                NaN                 NaN  \n",
       "4           False                NaN                 NaN  "
      ]
     },
     "execution_count": 68,
     "metadata": {},
     "output_type": "execute_result"
    }
   ],
   "source": [
    "schema_df.head()"
   ]
  },
  {
   "attachments": {},
   "cell_type": "markdown",
   "metadata": {},
   "source": [
    "## Write Create Schema Statements"
   ]
  },
  {
   "cell_type": "code",
   "execution_count": 69,
   "metadata": {},
   "outputs": [],
   "source": [
    "schemas = (schema_df['schema'].unique()).tolist()"
   ]
  },
  {
   "cell_type": "code",
   "execution_count": 70,
   "metadata": {},
   "outputs": [
    {
     "data": {
      "text/plain": [
       "['perpetrator', 'college_2', 'flight_company', 'icfp_1', 'body_builder']"
      ]
     },
     "execution_count": 70,
     "metadata": {},
     "output_type": "execute_result"
    }
   ],
   "source": [
    "schemas[:5]"
   ]
  },
  {
   "cell_type": "code",
   "execution_count": 71,
   "metadata": {},
   "outputs": [],
   "source": [
    "#write new .sql file\n",
    "#with open('/Users/brettly/Sboard/projects/text-to-sql/references/sql_files/create_schema.sql', 'w') as myFile:\n",
    "#    for schema in schemas:\n",
    "#        statement = \"CREATE SCHEMA \"+schema+\";\\n\"\n",
    "#        myFile.write(statement)"
   ]
  },
  {
   "attachments": {},
   "cell_type": "markdown",
   "metadata": {},
   "source": [
    "## Write Create Table Statements\n",
    "\n",
    "The result doesn't have to be perfect, but the tables.json had only basic column_types (text, number) while the .sql files had a much better representation of types. If possible I'll do some updating but I won't worry too much about it."
   ]
  },
  {
   "cell_type": "code",
   "execution_count": 72,
   "metadata": {},
   "outputs": [
    {
     "data": {
      "text/plain": [
       "column_type\n",
       "number     2178\n",
       "text       2097\n",
       "time        215\n",
       "others        8\n",
       "boolean       5\n",
       "Name: count, dtype: int64"
      ]
     },
     "execution_count": 72,
     "metadata": {},
     "output_type": "execute_result"
    }
   ],
   "source": [
    "#view col types\n",
    "schema_df['column_type'].value_counts().sort_values(ascending=False)"
   ]
  },
  {
   "cell_type": "code",
   "execution_count": 73,
   "metadata": {},
   "outputs": [
    {
     "data": {
      "text/html": [
       "<div>\n",
       "<style scoped>\n",
       "    .dataframe tbody tr th:only-of-type {\n",
       "        vertical-align: middle;\n",
       "    }\n",
       "\n",
       "    .dataframe tbody tr th {\n",
       "        vertical-align: top;\n",
       "    }\n",
       "\n",
       "    .dataframe thead th {\n",
       "        text-align: right;\n",
       "    }\n",
       "</style>\n",
       "<table border=\"1\" class=\"dataframe\">\n",
       "  <thead>\n",
       "    <tr style=\"text-align: right;\">\n",
       "      <th></th>\n",
       "      <th>schema</th>\n",
       "      <th>table</th>\n",
       "      <th>column_name</th>\n",
       "      <th>column_type</th>\n",
       "      <th>is_primary_key</th>\n",
       "      <th>is_foreign_key</th>\n",
       "      <th>fk_reference_table</th>\n",
       "      <th>fk_reference_column</th>\n",
       "    </tr>\n",
       "  </thead>\n",
       "  <tbody>\n",
       "    <tr>\n",
       "      <th>693</th>\n",
       "      <td>debate</td>\n",
       "      <td>debate_people</td>\n",
       "      <td>If_Affirmative_Win</td>\n",
       "      <td>others</td>\n",
       "      <td>False</td>\n",
       "      <td>False</td>\n",
       "      <td>NaN</td>\n",
       "      <td>NaN</td>\n",
       "    </tr>\n",
       "    <tr>\n",
       "      <th>1223</th>\n",
       "      <td>concert_singer</td>\n",
       "      <td>singer</td>\n",
       "      <td>Is_male</td>\n",
       "      <td>others</td>\n",
       "      <td>False</td>\n",
       "      <td>False</td>\n",
       "      <td>NaN</td>\n",
       "      <td>NaN</td>\n",
       "    </tr>\n",
       "    <tr>\n",
       "      <th>1865</th>\n",
       "      <td>school_bus</td>\n",
       "      <td>school_bus</td>\n",
       "      <td>If_full_time</td>\n",
       "      <td>others</td>\n",
       "      <td>False</td>\n",
       "      <td>False</td>\n",
       "      <td>NaN</td>\n",
       "      <td>NaN</td>\n",
       "    </tr>\n",
       "    <tr>\n",
       "      <th>2187</th>\n",
       "      <td>apartment_rentals</td>\n",
       "      <td>View_Unit_Status</td>\n",
       "      <td>available_yn</td>\n",
       "      <td>others</td>\n",
       "      <td>False</td>\n",
       "      <td>False</td>\n",
       "      <td>NaN</td>\n",
       "      <td>NaN</td>\n",
       "    </tr>\n",
       "    <tr>\n",
       "      <th>2618</th>\n",
       "      <td>employee_hire_evaluation</td>\n",
       "      <td>hiring</td>\n",
       "      <td>Is_full_time</td>\n",
       "      <td>others</td>\n",
       "      <td>False</td>\n",
       "      <td>False</td>\n",
       "      <td>NaN</td>\n",
       "      <td>NaN</td>\n",
       "    </tr>\n",
       "    <tr>\n",
       "      <th>3070</th>\n",
       "      <td>sakila_1</td>\n",
       "      <td>staff</td>\n",
       "      <td>picture</td>\n",
       "      <td>others</td>\n",
       "      <td>False</td>\n",
       "      <td>False</td>\n",
       "      <td>NaN</td>\n",
       "      <td>NaN</td>\n",
       "    </tr>\n",
       "    <tr>\n",
       "      <th>3750</th>\n",
       "      <td>orchestra</td>\n",
       "      <td>show</td>\n",
       "      <td>If_first_show</td>\n",
       "      <td>others</td>\n",
       "      <td>False</td>\n",
       "      <td>False</td>\n",
       "      <td>NaN</td>\n",
       "      <td>NaN</td>\n",
       "    </tr>\n",
       "    <tr>\n",
       "      <th>4473</th>\n",
       "      <td>party_host</td>\n",
       "      <td>party_host</td>\n",
       "      <td>Is_Main_in_Charge</td>\n",
       "      <td>others</td>\n",
       "      <td>False</td>\n",
       "      <td>False</td>\n",
       "      <td>NaN</td>\n",
       "      <td>NaN</td>\n",
       "    </tr>\n",
       "  </tbody>\n",
       "</table>\n",
       "</div>"
      ],
      "text/plain": [
       "                        schema             table         column_name  \\\n",
       "693                     debate     debate_people  If_Affirmative_Win   \n",
       "1223            concert_singer            singer             Is_male   \n",
       "1865                school_bus        school_bus        If_full_time   \n",
       "2187         apartment_rentals  View_Unit_Status        available_yn   \n",
       "2618  employee_hire_evaluation            hiring        Is_full_time   \n",
       "3070                  sakila_1             staff             picture   \n",
       "3750                 orchestra              show       If_first_show   \n",
       "4473                party_host        party_host   Is_Main_in_Charge   \n",
       "\n",
       "     column_type  is_primary_key  is_foreign_key fk_reference_table  \\\n",
       "693       others           False           False                NaN   \n",
       "1223      others           False           False                NaN   \n",
       "1865      others           False           False                NaN   \n",
       "2187      others           False           False                NaN   \n",
       "2618      others           False           False                NaN   \n",
       "3070      others           False           False                NaN   \n",
       "3750      others           False           False                NaN   \n",
       "4473      others           False           False                NaN   \n",
       "\n",
       "     fk_reference_column  \n",
       "693                  NaN  \n",
       "1223                 NaN  \n",
       "1865                 NaN  \n",
       "2187                 NaN  \n",
       "2618                 NaN  \n",
       "3070                 NaN  \n",
       "3750                 NaN  \n",
       "4473                 NaN  "
      ]
     },
     "execution_count": 73,
     "metadata": {},
     "output_type": "execute_result"
    }
   ],
   "source": [
    "#what is that \"others\"?\n",
    "schema_df[schema_df['column_type'] == 'others']\n",
    "\n",
    "#debate is boolean\n",
    "#concert_singer is boolean\n",
    "#school_bus is boolean\n",
    "#apartment_rentals is 'BIT', we'll use the same for postgres\n",
    "#employee_hire_evaluation is boolean\n",
    "#sakila_1 is 'BLOB'. We'll use 'bytea' type for postgres\n",
    "#orchestra is boolean\n",
    "#party_host is boolean"
   ]
  },
  {
   "attachments": {},
   "cell_type": "markdown",
   "metadata": {},
   "source": [
    "### Update 'other' datatypes"
   ]
  },
  {
   "cell_type": "code",
   "execution_count": 74,
   "metadata": {},
   "outputs": [],
   "source": [
    "#we'll do some manual and specific updates\n",
    "schema_df.at[693,'column_type'] = 'boolean'\n",
    "schema_df.at[1223,'column_type'] = 'boolean'\n",
    "schema_df.at[1865,'column_type'] = 'boolean'\n",
    "schema_df.at[2187,'column_type'] = 'bit'\n",
    "schema_df.at[2618,'column_type'] = 'boolean'\n",
    "schema_df.at[3070,'column_type'] = 'bytea' #postgres equivalent of BLOB\n",
    "schema_df.at[3750,'column_type'] = 'boolean'\n",
    "schema_df.at[4473,'column_type'] = 'boolean'"
   ]
  },
  {
   "cell_type": "code",
   "execution_count": 75,
   "metadata": {},
   "outputs": [
    {
     "data": {
      "text/plain": [
       "column_type\n",
       "number     2178\n",
       "text       2097\n",
       "time        215\n",
       "boolean      11\n",
       "bit           1\n",
       "bytea         1\n",
       "Name: count, dtype: int64"
      ]
     },
     "execution_count": 75,
     "metadata": {},
     "output_type": "execute_result"
    }
   ],
   "source": [
    "schema_df['column_type'].value_counts().sort_values(ascending=False)"
   ]
  },
  {
   "attachments": {},
   "cell_type": "markdown",
   "metadata": {},
   "source": [
    "### Fix Date Types\n",
    "I'm note a huge fan of the number and text being so generic, but with so many tables, I don't have time to validate them all so I may just try to change anything with Date in it to Dates. I'll also change any that have a pure 'Date\" name to something that's not also a dtype."
   ]
  },
  {
   "cell_type": "code",
   "execution_count": 76,
   "metadata": {},
   "outputs": [
    {
     "data": {
      "text/html": [
       "<div>\n",
       "<style scoped>\n",
       "    .dataframe tbody tr th:only-of-type {\n",
       "        vertical-align: middle;\n",
       "    }\n",
       "\n",
       "    .dataframe tbody tr th {\n",
       "        vertical-align: top;\n",
       "    }\n",
       "\n",
       "    .dataframe thead th {\n",
       "        text-align: right;\n",
       "    }\n",
       "</style>\n",
       "<table border=\"1\" class=\"dataframe\">\n",
       "  <thead>\n",
       "    <tr style=\"text-align: right;\">\n",
       "      <th></th>\n",
       "      <th>schema</th>\n",
       "      <th>table</th>\n",
       "      <th>column_name</th>\n",
       "      <th>column_type</th>\n",
       "      <th>is_primary_key</th>\n",
       "      <th>is_foreign_key</th>\n",
       "      <th>fk_reference_table</th>\n",
       "      <th>fk_reference_column</th>\n",
       "    </tr>\n",
       "  </thead>\n",
       "  <tbody>\n",
       "    <tr>\n",
       "      <th>2</th>\n",
       "      <td>perpetrator</td>\n",
       "      <td>perpetrator</td>\n",
       "      <td>Date</td>\n",
       "      <td>text</td>\n",
       "      <td>False</td>\n",
       "      <td>False</td>\n",
       "      <td>NaN</td>\n",
       "      <td>NaN</td>\n",
       "    </tr>\n",
       "    <tr>\n",
       "      <th>73</th>\n",
       "      <td>flight_company</td>\n",
       "      <td>flight</td>\n",
       "      <td>Date</td>\n",
       "      <td>text</td>\n",
       "      <td>False</td>\n",
       "      <td>False</td>\n",
       "      <td>NaN</td>\n",
       "      <td>NaN</td>\n",
       "    </tr>\n",
       "    <tr>\n",
       "      <th>100</th>\n",
       "      <td>body_builder</td>\n",
       "      <td>people</td>\n",
       "      <td>Birth_Date</td>\n",
       "      <td>text</td>\n",
       "      <td>False</td>\n",
       "      <td>False</td>\n",
       "      <td>NaN</td>\n",
       "      <td>NaN</td>\n",
       "    </tr>\n",
       "    <tr>\n",
       "      <th>104</th>\n",
       "      <td>storm_record</td>\n",
       "      <td>storm</td>\n",
       "      <td>Dates_active</td>\n",
       "      <td>text</td>\n",
       "      <td>False</td>\n",
       "      <td>False</td>\n",
       "      <td>NaN</td>\n",
       "      <td>NaN</td>\n",
       "    </tr>\n",
       "    <tr>\n",
       "      <th>132</th>\n",
       "      <td>pilot_record</td>\n",
       "      <td>pilot_record</td>\n",
       "      <td>Date</td>\n",
       "      <td>text</td>\n",
       "      <td>False</td>\n",
       "      <td>False</td>\n",
       "      <td>NaN</td>\n",
       "      <td>NaN</td>\n",
       "    </tr>\n",
       "    <tr>\n",
       "      <th>...</th>\n",
       "      <td>...</td>\n",
       "      <td>...</td>\n",
       "      <td>...</td>\n",
       "      <td>...</td>\n",
       "      <td>...</td>\n",
       "      <td>...</td>\n",
       "      <td>...</td>\n",
       "      <td>...</td>\n",
       "    </tr>\n",
       "    <tr>\n",
       "      <th>4426</th>\n",
       "      <td>company_1</td>\n",
       "      <td>department</td>\n",
       "      <td>Mgr_start_date</td>\n",
       "      <td>text</td>\n",
       "      <td>False</td>\n",
       "      <td>False</td>\n",
       "      <td>NaN</td>\n",
       "      <td>NaN</td>\n",
       "    </tr>\n",
       "    <tr>\n",
       "      <th>4434</th>\n",
       "      <td>company_1</td>\n",
       "      <td>dependent</td>\n",
       "      <td>Bdate</td>\n",
       "      <td>text</td>\n",
       "      <td>False</td>\n",
       "      <td>False</td>\n",
       "      <td>NaN</td>\n",
       "      <td>NaN</td>\n",
       "    </tr>\n",
       "    <tr>\n",
       "      <th>4439</th>\n",
       "      <td>workshop_paper</td>\n",
       "      <td>workshop</td>\n",
       "      <td>Date</td>\n",
       "      <td>text</td>\n",
       "      <td>False</td>\n",
       "      <td>False</td>\n",
       "      <td>NaN</td>\n",
       "      <td>NaN</td>\n",
       "    </tr>\n",
       "    <tr>\n",
       "      <th>4480</th>\n",
       "      <td>product_catalog</td>\n",
       "      <td>Catalogs</td>\n",
       "      <td>date_of_publication</td>\n",
       "      <td>time</td>\n",
       "      <td>False</td>\n",
       "      <td>False</td>\n",
       "      <td>NaN</td>\n",
       "      <td>NaN</td>\n",
       "    </tr>\n",
       "    <tr>\n",
       "      <th>4481</th>\n",
       "      <td>product_catalog</td>\n",
       "      <td>Catalogs</td>\n",
       "      <td>date_of_latest_revision</td>\n",
       "      <td>time</td>\n",
       "      <td>False</td>\n",
       "      <td>False</td>\n",
       "      <td>NaN</td>\n",
       "      <td>NaN</td>\n",
       "    </tr>\n",
       "  </tbody>\n",
       "</table>\n",
       "<p>252 rows × 8 columns</p>\n",
       "</div>"
      ],
      "text/plain": [
       "               schema         table              column_name column_type  \\\n",
       "2         perpetrator   perpetrator                     Date        text   \n",
       "73     flight_company        flight                     Date        text   \n",
       "100      body_builder        people               Birth_Date        text   \n",
       "104      storm_record         storm             Dates_active        text   \n",
       "132      pilot_record  pilot_record                     Date        text   \n",
       "...               ...           ...                      ...         ...   \n",
       "4426        company_1    department           Mgr_start_date        text   \n",
       "4434        company_1     dependent                    Bdate        text   \n",
       "4439   workshop_paper      workshop                     Date        text   \n",
       "4480  product_catalog      Catalogs      date_of_publication        time   \n",
       "4481  product_catalog      Catalogs  date_of_latest_revision        time   \n",
       "\n",
       "      is_primary_key  is_foreign_key fk_reference_table fk_reference_column  \n",
       "2              False           False                NaN                 NaN  \n",
       "73             False           False                NaN                 NaN  \n",
       "100            False           False                NaN                 NaN  \n",
       "104            False           False                NaN                 NaN  \n",
       "132            False           False                NaN                 NaN  \n",
       "...              ...             ...                ...                 ...  \n",
       "4426           False           False                NaN                 NaN  \n",
       "4434           False           False                NaN                 NaN  \n",
       "4439           False           False                NaN                 NaN  \n",
       "4480           False           False                NaN                 NaN  \n",
       "4481           False           False                NaN                 NaN  \n",
       "\n",
       "[252 rows x 8 columns]"
      ]
     },
     "execution_count": 76,
     "metadata": {},
     "output_type": "execute_result"
    }
   ],
   "source": [
    "schema_df[schema_df['column_name'].str.contains(\"Date\") | schema_df['column_name'].str.contains(\"date\")]"
   ]
  },
  {
   "cell_type": "code",
   "execution_count": 77,
   "metadata": {},
   "outputs": [],
   "source": [
    "#change column_type\n",
    "schema_df.loc[schema_df.column_name.str.contains(\"Date\") | schema_df.column_name.str.contains(\"date\"), 'column_type'] = 'date'"
   ]
  },
  {
   "cell_type": "code",
   "execution_count": 78,
   "metadata": {},
   "outputs": [],
   "source": [
    "#change column name\n",
    "schema_df.loc[(schema_df.column_name == \"Date\") | (schema_df.column_name == \"date\"), 'column_name'] = 'date_value'"
   ]
  },
  {
   "cell_type": "code",
   "execution_count": 79,
   "metadata": {},
   "outputs": [
    {
     "data": {
      "text/plain": [
       "column_type\n",
       "number     2173\n",
       "text       2049\n",
       "date        252\n",
       "time         16\n",
       "boolean      11\n",
       "bit           1\n",
       "bytea         1\n",
       "Name: count, dtype: int64"
      ]
     },
     "execution_count": 79,
     "metadata": {},
     "output_type": "execute_result"
    }
   ],
   "source": [
    "schema_df['column_type'].value_counts().sort_values(ascending=False)"
   ]
  },
  {
   "attachments": {},
   "cell_type": "markdown",
   "metadata": {},
   "source": [
    "### Convert Number to Numeric\n",
    "\n",
    "Turns out Number isn't a postgres datatype, so let's update that"
   ]
  },
  {
   "cell_type": "code",
   "execution_count": 80,
   "metadata": {},
   "outputs": [],
   "source": [
    "schema_df.loc[schema_df.column_type=='number', 'column_type'] = 'numeric'"
   ]
  },
  {
   "cell_type": "code",
   "execution_count": 81,
   "metadata": {},
   "outputs": [
    {
     "data": {
      "text/plain": [
       "column_type\n",
       "numeric    2173\n",
       "text       2049\n",
       "date        252\n",
       "time         16\n",
       "boolean      11\n",
       "bit           1\n",
       "bytea         1\n",
       "Name: count, dtype: int64"
      ]
     },
     "execution_count": 81,
     "metadata": {},
     "output_type": "execute_result"
    }
   ],
   "source": [
    "schema_df['column_type'].value_counts().sort_values(ascending=False)"
   ]
  },
  {
   "attachments": {},
   "cell_type": "markdown",
   "metadata": {},
   "source": [
    "### Remove Spaces and Make Lowercase\n",
    "\n",
    "This will hold up the integrity of the data"
   ]
  },
  {
   "cell_type": "code",
   "execution_count": 82,
   "metadata": {},
   "outputs": [],
   "source": [
    "schema_df.column_name = schema_df.column_name.str.replace(' ','_')"
   ]
  },
  {
   "cell_type": "code",
   "execution_count": 83,
   "metadata": {},
   "outputs": [],
   "source": [
    "schema_df.column_name = schema_df.column_name.str.lower()"
   ]
  },
  {
   "attachments": {},
   "cell_type": "markdown",
   "metadata": {},
   "source": [
    "### Fix Some Naming Erros\n",
    "An initial test of the load revelaed some column naming issues, so I'l fix those here."
   ]
  },
  {
   "cell_type": "code",
   "execution_count": 84,
   "metadata": {},
   "outputs": [],
   "source": [
    "col_upd_dict = {'from': 'from_value', 'start': 'start_time', 'end': 'end_time', '%_change_2007': 'change_perc', 'official_ratings_(millions)': 'official_ratings_mil', '18_49_rating_share':'rating_share'}\n"
   ]
  },
  {
   "cell_type": "code",
   "execution_count": 85,
   "metadata": {},
   "outputs": [],
   "source": [
    "for key, value in col_upd_dict.items():\n",
    "    schema_df.loc[schema_df.column_name == key, 'column_name'] = value"
   ]
  },
  {
   "cell_type": "code",
   "execution_count": 86,
   "metadata": {},
   "outputs": [
    {
     "data": {
      "text/html": [
       "<div>\n",
       "<style scoped>\n",
       "    .dataframe tbody tr th:only-of-type {\n",
       "        vertical-align: middle;\n",
       "    }\n",
       "\n",
       "    .dataframe tbody tr th {\n",
       "        vertical-align: top;\n",
       "    }\n",
       "\n",
       "    .dataframe thead th {\n",
       "        text-align: right;\n",
       "    }\n",
       "</style>\n",
       "<table border=\"1\" class=\"dataframe\">\n",
       "  <thead>\n",
       "    <tr style=\"text-align: right;\">\n",
       "      <th></th>\n",
       "      <th>schema</th>\n",
       "      <th>table</th>\n",
       "      <th>column_name</th>\n",
       "      <th>column_type</th>\n",
       "      <th>is_primary_key</th>\n",
       "      <th>is_foreign_key</th>\n",
       "      <th>fk_reference_table</th>\n",
       "      <th>fk_reference_column</th>\n",
       "    </tr>\n",
       "  </thead>\n",
       "  <tbody>\n",
       "  </tbody>\n",
       "</table>\n",
       "</div>"
      ],
      "text/plain": [
       "Empty DataFrame\n",
       "Columns: [schema, table, column_name, column_type, is_primary_key, is_foreign_key, fk_reference_table, fk_reference_column]\n",
       "Index: []"
      ]
     },
     "execution_count": 86,
     "metadata": {},
     "output_type": "execute_result"
    }
   ],
   "source": [
    "schema_df.loc[schema_df.column_name == 'offical_ratings_(millions)']"
   ]
  },
  {
   "attachments": {},
   "cell_type": "markdown",
   "metadata": {},
   "source": [
    "### Function to Write .sql statements\n",
    "\n",
    "Thanks to the chaptGPT assist. This should generate the create statements for me"
   ]
  },
  {
   "cell_type": "code",
   "execution_count": 87,
   "metadata": {},
   "outputs": [],
   "source": [
    "# SQL CREATE TABLE statement builder\n",
    "table_columns = {}\n",
    "for row in schema_df.itertuples(index=False):\n",
    "    schema, table, column, data_type, primary_key = row[:5]  # Unpack the row values\n",
    "\n",
    "    # Create or update the table_columns dictionary\n",
    "    key = (schema, table)\n",
    "    if key not in table_columns:\n",
    "        table_columns[key] = []\n",
    "    \n",
    "    column_def = f\"{column} {data_type}\"\n",
    "    if primary_key:\n",
    "        column_def += \" PRIMARY KEY\"\n",
    "\n",
    "    table_columns[key].append(column_def)\n",
    "\n",
    "# Generate SQL CREATE TABLE statements\n",
    "sql_statements = []\n",
    "for (schema, table), columns in table_columns.items():\n",
    "    column_defs = ',\\n'.join(columns)\n",
    "    sql_statement = f\"CREATE TABLE {schema}.{table} (\\n{column_defs}\\n);\\n\"\n",
    "    sql_statements.append(sql_statement)\n"
   ]
  },
  {
   "cell_type": "code",
   "execution_count": 88,
   "metadata": {},
   "outputs": [
    {
     "name": "stdout",
     "output_type": "stream",
     "text": [
      "CREATE TABLE perpetrator.perpetrator (\n",
      "perpetrator_id numeric PRIMARY KEY,\n",
      "people_id numeric,\n",
      "date_value date,\n",
      "year numeric,\n",
      "location text,\n",
      "country text,\n",
      "killed numeric,\n",
      "injured numeric\n",
      ");\n",
      "\n",
      "CREATE TABLE perpetrator.people (\n",
      "people_id numeric PRIMARY KEY,\n",
      "name text,\n",
      "height numeric,\n",
      "weight numeric,\n",
      "home_town text\n",
      ");\n",
      "\n",
      "CREATE TABLE college_2.classroom (\n",
      "building text PRIMARY KEY,\n",
      "room_number text,\n",
      "capacity numeric\n",
      ");\n",
      "\n"
     ]
    }
   ],
   "source": [
    "for i in range(3):\n",
    "    print(sql_statements[i])"
   ]
  },
  {
   "attachments": {},
   "cell_type": "markdown",
   "metadata": {},
   "source": [
    "### Write to .SQL File"
   ]
  },
  {
   "cell_type": "code",
   "execution_count": 89,
   "metadata": {},
   "outputs": [],
   "source": [
    "#write new .sql file\n",
    "#with open('/Users/brettly/Sboard/projects/text-to-sql/references/sql_files/create_tables.sql', 'w') as sqlFile:\n",
    "#    for statement in sql_statements:\n",
    "#        sqlFile.write(statement)"
   ]
  },
  {
   "attachments": {},
   "cell_type": "markdown",
   "metadata": {},
   "source": [
    "## Prep Foreign Key Alteration Script\n",
    "\n",
    "Thanks chatGPT for the help!"
   ]
  },
  {
   "cell_type": "code",
   "execution_count": 90,
   "metadata": {},
   "outputs": [],
   "source": [
    "# SQL ALTER TABLE statement builder\n",
    "alter_statements = []\n",
    "for row in schema_df.itertuples(index=False):\n",
    "    schema = row[0]\n",
    "    table = row[1]\n",
    "    column_name = row[2]\n",
    "    is_foreign_key = row[5]\n",
    "    reference_table = row[6]\n",
    "    reference_column = row[7]\n",
    "\n",
    "    if is_foreign_key and reference_table and reference_column:\n",
    "        alter_statement = (\n",
    "            f\"ALTER TABLE {schema}.{table}\\n\"\n",
    "            f\"ADD CONSTRAINT {column_name}_fk\\n\"\n",
    "            f\"FOREIGN KEY ({column_name})\\n\"\n",
    "            f\"REFERENCES {schema}.{reference_table}({reference_column});\\n\\n\"\n",
    "        )\n",
    "        alter_statements.append(alter_statement)"
   ]
  },
  {
   "attachments": {},
   "cell_type": "markdown",
   "metadata": {},
   "source": [
    "### Write to .SQL File"
   ]
  },
  {
   "cell_type": "code",
   "execution_count": 91,
   "metadata": {},
   "outputs": [],
   "source": [
    "#write new .sql file\n",
    "#with open('/Users/brettly/Sboard/projects/text-to-sql/references/sql_files/alter_tables.sql', 'w') as fkFile:\n",
    "#    for statement in alter_statements:\n",
    "#        fkFile.write(statement)"
   ]
  }
 ],
 "metadata": {
  "kernelspec": {
   "display_name": "text2sql",
   "language": "python",
   "name": "python3"
  },
  "language_info": {
   "codemirror_mode": {
    "name": "ipython",
    "version": 3
   },
   "file_extension": ".py",
   "mimetype": "text/x-python",
   "name": "python",
   "nbconvert_exporter": "python",
   "pygments_lexer": "ipython3",
   "version": "3.11.4"
  },
  "orig_nbformat": 4
 },
 "nbformat": 4,
 "nbformat_minor": 2
}
